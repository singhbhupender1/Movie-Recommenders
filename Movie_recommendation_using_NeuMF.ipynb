{
  "nbformat": 4,
  "nbformat_minor": 0,
  "metadata": {
    "colab": {
      "name": "Movie recommendation using NeuMF.ipynb",
      "provenance": [],
      "machine_shape": "hm",
      "authorship_tag": "ABX9TyNavX/qn5gSwLlb8SS+vUml",
      "include_colab_link": true
    },
    "kernelspec": {
      "name": "python3",
      "display_name": "Python 3"
    },
    "accelerator": "GPU"
  },
  "cells": [
    {
      "cell_type": "markdown",
      "metadata": {
        "id": "view-in-github",
        "colab_type": "text"
      },
      "source": [
        "<a href=\"https://colab.research.google.com/github/singhbhupender1/Movie-Recommenders/blob/master/Movie_recommendation_using_NeuMF.ipynb\" target=\"_parent\"><img src=\"https://colab.research.google.com/assets/colab-badge.svg\" alt=\"Open In Colab\"/></a>"
      ]
    },
    {
      "cell_type": "markdown",
      "metadata": {
        "id": "yVcOniX4lGPB",
        "colab_type": "text"
      },
      "source": [
        "#Overview\n",
        "In this project, I will use Neural Network Matrix Factorization with Keras to predict the ratings for the movies in [MovieLens Small Datasets](https://grouplens.org/datasets/movielens/latest/)"
      ]
    },
    {
      "cell_type": "markdown",
      "metadata": {
        "id": "7CyXvVYNlWNs",
        "colab_type": "text"
      },
      "source": [
        "#[Recommender system](https://en.wikipedia.org/wiki/Recommender_system)\n",
        "\n",
        "A recommendation system is basically an information filtering system that seeks to predict the \"rating\" or \"preference\" a user would give to an item. It is widely used in different internet / online business such as Amazon, Netflix, Spotify, or social media like Facebook and Youtube. By using recommender systems, those companies are able to provide better or more suited products/services/contents that are personalized to a user based on his/her historical consumer behaviors"
      ]
    },
    {
      "cell_type": "markdown",
      "metadata": {
        "id": "iYYXoFZNln4i",
        "colab_type": "text"
      },
      "source": [
        "#[Neural Collaborative Filtering](https://dl.acm.org/citation.cfm?id=3052569)\n",
        "\n",
        "This notebook will present a general framework named NCF, short for Neural network-based Collaborative Filtering. NCF is generic and can express and generalize matrix factorization under its framework. To supercharge NCF modelling with non-linearities, I will leverage a multi-layer perceptron to learn the user-item interaction function. Extensive experiments on real-world datasets show significant improvements of our proposed NCF framework over the state-of-the-art methods. Empirical evidence shows that using deeper layers of neural networks offers better recommendation performance."
      ]
    },
    {
      "cell_type": "markdown",
      "metadata": {
        "id": "MBzhOG3Fl3ZL",
        "colab_type": "text"
      },
      "source": [
        "#Data Sets\n",
        "We use [MovieLens Small Datasets](https://grouplens.org/datasets/movielens/latest/) This dataset (ml-latest-small) describes 5-star rating and free-text tagging activity from [MovieLens](http://movielens.org/), a movie recommendation service. It contains 100004 ratings and 1296 tag applications across 9125 movies. These data were created by 671 users between January 09, 1995 and October 16, 2016. This dataset was generated on October 17, 2016.\n",
        "\n",
        "Users were selected at random for inclusion. All selected users had rated at least 20 movies. No demographic information is included. Each user is represented by an id, and no other information is provided.\n",
        "\n",
        "The data are contained in the files links.csv, movies.csv, ratings.csv and tags.csv"
      ]
    },
    {
      "cell_type": "markdown",
      "metadata": {
        "id": "1XhUKTtGmPYH",
        "colab_type": "text"
      },
      "source": [
        "#Project Content\n",
        "1. Load Data\n",
        "2. Split Data Into Train/Test\n",
        "3. Train Generalized Matrix Factorization Model and Test Model\n",
        "4. Train Multi-Layer Perceptron Model and Test Model\n",
        "5. Train Neural Matrix Factorization Model (NeuMF) and Test Model\n",
        "6. Experiment Observations\n",
        "7. Conclusion and Thoughts\n",
        "\n",
        "NOTE: Train Neural Matrix Factorization Model (NeuMF) is a stacking version of Generalized Matrix Factorization Model and Multi-Layer Perceptron Model"
      ]
    },
    {
      "cell_type": "code",
      "metadata": {
        "id": "Vz7DsEa3TKxD",
        "colab_type": "code",
        "colab": {}
      },
      "source": [
        "# a = [] #do not execute it!!!!!!..will crash your system\n",
        "# while(1):\n",
        "#     a.append('1')\n",
        "# #get more ram"
      ],
      "execution_count": 0,
      "outputs": []
    },
    {
      "cell_type": "markdown",
      "metadata": {
        "id": "7fBUGyQ6mzhy",
        "colab_type": "text"
      },
      "source": [
        "First download the data"
      ]
    },
    {
      "cell_type": "code",
      "metadata": {
        "id": "YCEtEaWLURNG",
        "colab_type": "code",
        "colab": {
          "base_uri": "https://localhost:8080/",
          "height": 222
        },
        "outputId": "3f3ada5d-9031-4650-a602-2e7e2e882231"
      },
      "source": [
        "!wget \"http://files.grouplens.org/datasets/movielens/ml-latest-small.zip\""
      ],
      "execution_count": 1,
      "outputs": [
        {
          "output_type": "stream",
          "text": [
            "--2020-03-08 23:17:04--  http://files.grouplens.org/datasets/movielens/ml-latest-small.zip\n",
            "Resolving files.grouplens.org (files.grouplens.org)... 128.101.65.152\n",
            "Connecting to files.grouplens.org (files.grouplens.org)|128.101.65.152|:80... connected.\n",
            "HTTP request sent, awaiting response... 200 OK\n",
            "Length: 978202 (955K) [application/zip]\n",
            "Saving to: ‘ml-latest-small.zip’\n",
            "\n",
            "ml-latest-small.zip 100%[===================>] 955.28K  4.24MB/s    in 0.2s    \n",
            "\n",
            "2020-03-08 23:17:05 (4.24 MB/s) - ‘ml-latest-small.zip’ saved [978202/978202]\n",
            "\n"
          ],
          "name": "stdout"
        }
      ]
    },
    {
      "cell_type": "code",
      "metadata": {
        "id": "HSPoa437UWM4",
        "colab_type": "code",
        "colab": {}
      },
      "source": [
        "import shutil\n",
        "filename = \"ml-latest-small.zip\"\n",
        "#archive_format = \"zip\"\n",
        "\n",
        "shutil.unpack_archive(filename)"
      ],
      "execution_count": 0,
      "outputs": []
    },
    {
      "cell_type": "code",
      "metadata": {
        "id": "ew3cvPf-UxwP",
        "colab_type": "code",
        "colab": {}
      },
      "source": [
        "import os\n",
        "\n",
        "#ML libraries import\n",
        "import numpy as np\n",
        "import pandas as pd\n",
        "\n",
        "#sklearn imports\n",
        "from sklearn.model_selection import train_test_split\n",
        "\n",
        "#keras/tensorflow imports\n",
        "from tensorflow.keras.layers import Input, Embedding, Flatten, \\\n",
        "Dense, Multiply, Concatenate\n",
        "from tensorflow.keras.regularizers import l2\n",
        "from tensorflow.keras.models import Model\n",
        "#from tensorflow.keras.optimizers import Adagrad, Adam, SGD, RMSprop\n",
        "from tensorflow.keras.callbacks import EarlyStopping, ModelCheckpoint\n",
        "import tensorflow.keras.backend as K\n",
        "from tensorflow.keras.models import load_model\n",
        "\n",
        "#visualization imports\n",
        "import matplotlib.pyplot as plt\n",
        "%matplotlib inline\n"
      ],
      "execution_count": 0,
      "outputs": []
    },
    {
      "cell_type": "code",
      "metadata": {
        "id": "IMl6CNEcZUrT",
        "colab_type": "code",
        "colab": {}
      },
      "source": [
        "data_path = '/content/ml-latest-small'\n",
        "ratings_filename = 'ratings.csv'"
      ],
      "execution_count": 0,
      "outputs": []
    },
    {
      "cell_type": "markdown",
      "metadata": {
        "id": "Or_sV0eVni_o",
        "colab_type": "text"
      },
      "source": [
        "#1. Load Data"
      ]
    },
    {
      "cell_type": "code",
      "metadata": {
        "id": "7wznlazJa3le",
        "colab_type": "code",
        "colab": {}
      },
      "source": [
        "df_ratings = pd.read_csv(\n",
        "    os.path.join(data_path, ratings_filename),\n",
        "    usecols = ['userId', 'movieId', 'rating'],\n",
        "    dtype = {'userId' : 'int32', 'movieId': 'int32', 'rating' : 'float32'})"
      ],
      "execution_count": 0,
      "outputs": []
    },
    {
      "cell_type": "code",
      "metadata": {
        "id": "vvxdYz5MbYpH",
        "colab_type": "code",
        "colab": {
          "base_uri": "https://localhost:8080/",
          "height": 151
        },
        "outputId": "22f41cbb-39f5-4121-af4e-32761fe40622"
      },
      "source": [
        "df_ratings.info()"
      ],
      "execution_count": 8,
      "outputs": [
        {
          "output_type": "stream",
          "text": [
            "<class 'pandas.core.frame.DataFrame'>\n",
            "RangeIndex: 100836 entries, 0 to 100835\n",
            "Data columns (total 3 columns):\n",
            "userId     100836 non-null int32\n",
            "movieId    100836 non-null int32\n",
            "rating     100836 non-null float32\n",
            "dtypes: float32(1), int32(2)\n",
            "memory usage: 1.2 MB\n"
          ],
          "name": "stdout"
        }
      ]
    },
    {
      "cell_type": "code",
      "metadata": {
        "id": "MOyg3CVwbbVH",
        "colab_type": "code",
        "colab": {
          "base_uri": "https://localhost:8080/",
          "height": 195
        },
        "outputId": "d5c09bb0-b795-4e1d-b49e-34068ca93fcf"
      },
      "source": [
        "df_ratings.head()"
      ],
      "execution_count": 9,
      "outputs": [
        {
          "output_type": "execute_result",
          "data": {
            "text/html": [
              "<div>\n",
              "<style scoped>\n",
              "    .dataframe tbody tr th:only-of-type {\n",
              "        vertical-align: middle;\n",
              "    }\n",
              "\n",
              "    .dataframe tbody tr th {\n",
              "        vertical-align: top;\n",
              "    }\n",
              "\n",
              "    .dataframe thead th {\n",
              "        text-align: right;\n",
              "    }\n",
              "</style>\n",
              "<table border=\"1\" class=\"dataframe\">\n",
              "  <thead>\n",
              "    <tr style=\"text-align: right;\">\n",
              "      <th></th>\n",
              "      <th>userId</th>\n",
              "      <th>movieId</th>\n",
              "      <th>rating</th>\n",
              "    </tr>\n",
              "  </thead>\n",
              "  <tbody>\n",
              "    <tr>\n",
              "      <th>0</th>\n",
              "      <td>1</td>\n",
              "      <td>1</td>\n",
              "      <td>4.0</td>\n",
              "    </tr>\n",
              "    <tr>\n",
              "      <th>1</th>\n",
              "      <td>1</td>\n",
              "      <td>3</td>\n",
              "      <td>4.0</td>\n",
              "    </tr>\n",
              "    <tr>\n",
              "      <th>2</th>\n",
              "      <td>1</td>\n",
              "      <td>6</td>\n",
              "      <td>4.0</td>\n",
              "    </tr>\n",
              "    <tr>\n",
              "      <th>3</th>\n",
              "      <td>1</td>\n",
              "      <td>47</td>\n",
              "      <td>5.0</td>\n",
              "    </tr>\n",
              "    <tr>\n",
              "      <th>4</th>\n",
              "      <td>1</td>\n",
              "      <td>50</td>\n",
              "      <td>5.0</td>\n",
              "    </tr>\n",
              "  </tbody>\n",
              "</table>\n",
              "</div>"
            ],
            "text/plain": [
              "   userId  movieId  rating\n",
              "0       1        1     4.0\n",
              "1       1        3     4.0\n",
              "2       1        6     4.0\n",
              "3       1       47     5.0\n",
              "4       1       50     5.0"
            ]
          },
          "metadata": {
            "tags": []
          },
          "execution_count": 9
        }
      ]
    },
    {
      "cell_type": "code",
      "metadata": {
        "id": "FSfslMDtccHU",
        "colab_type": "code",
        "colab": {
          "base_uri": "https://localhost:8080/",
          "height": 34
        },
        "outputId": "85f621ca-52ff-4e92-f200-39bee4123901"
      },
      "source": [
        "num_users = len(df_ratings.userId.unique())\n",
        "num_items = len(df_ratings.movieId.unique())\n",
        "print('There are {} unique users and {} unique movies in this dataset'. \\\n",
        "      format(num_users, num_items))"
      ],
      "execution_count": 10,
      "outputs": [
        {
          "output_type": "stream",
          "text": [
            "There are 610 unique users and 9724 unique movies in this dataset\n"
          ],
          "name": "stdout"
        }
      ]
    },
    {
      "cell_type": "code",
      "metadata": {
        "id": "WS5q9VPOc79s",
        "colab_type": "code",
        "colab": {
          "base_uri": "https://localhost:8080/",
          "height": 87
        },
        "outputId": "93a1f872-f784-42ee-ef1b-c0690bd7e87f"
      },
      "source": [
        "user_maxId = df_ratings.userId.max()\n",
        "item_maxId = df_ratings.movieId.max()\n",
        "print('THere are {} distinct users and the max of user ID id also is {}'.format(num_items, item_maxId))\n",
        "print(\"In the context of matrix factorizaton, the current item vector is in unnecessarily high dimensional space\")\n",
        "print('so we need to do some data cleaning to reduce the dimensional of item vector back to {}'. format(num_items))"
      ],
      "execution_count": 13,
      "outputs": [
        {
          "output_type": "stream",
          "text": [
            "THere are 9724 distinct users and the max of user ID id also is 193609\n",
            "In the context of matrix factorizaton, the current item vector is in unnecessarily high dimensional space\n",
            "so we need to do some data cleaning to reduce the dimensional of item vector back to 9724\n"
          ],
          "name": "stdout"
        }
      ]
    },
    {
      "cell_type": "code",
      "metadata": {
        "id": "pF5xh9aXdx9Z",
        "colab_type": "code",
        "colab": {}
      },
      "source": [
        "def reduce_item_dim(df_ratings):\n",
        "    \"\"\"\n",
        "    Reduce item vector dimension to the number of distinct items in our data sets\n",
        "    \n",
        "    input: pd.DataFrame, df_ratings should have columns ['userId', 'movieId', 'rating']\n",
        "    output: pd.DataFrame, df_ratings with new 'MovieID' that is compressed\n",
        "    \"\"\"\n",
        "    # pivot\n",
        "    df_user_item = df_ratings.pivot(index='userId', columns='movieId', values='rating')\n",
        "    # reset movieId\n",
        "    df_user_item = df_user_item.T.reset_index(drop=True).T\n",
        "    # undo pivot/melt - compress data frame\n",
        "    df_ratings_new = df_user_item \\\n",
        "        .reset_index('userId') \\\n",
        "        .melt(\n",
        "            id_vars='userId', \n",
        "            value_vars=df_user_item.columns,\n",
        "            var_name='movieId',\n",
        "            value_name='rating')\n",
        "    # drop nan and final clean up\n",
        "    return df_ratings_new.dropna().sort_values(['userId', 'movieId']).reset_index(drop=True)"
      ],
      "execution_count": 0,
      "outputs": []
    },
    {
      "cell_type": "code",
      "metadata": {
        "id": "v-_KydKweTcY",
        "colab_type": "code",
        "colab": {
          "base_uri": "https://localhost:8080/",
          "height": 212
        },
        "outputId": "296c64ad-e3bb-4126-98cd-2efb046911b7"
      },
      "source": [
        "print('reduce item dimesion before:')\n",
        "df_ratings.head()"
      ],
      "execution_count": 16,
      "outputs": [
        {
          "output_type": "stream",
          "text": [
            "reduce item dimesion before:\n"
          ],
          "name": "stdout"
        },
        {
          "output_type": "execute_result",
          "data": {
            "text/html": [
              "<div>\n",
              "<style scoped>\n",
              "    .dataframe tbody tr th:only-of-type {\n",
              "        vertical-align: middle;\n",
              "    }\n",
              "\n",
              "    .dataframe tbody tr th {\n",
              "        vertical-align: top;\n",
              "    }\n",
              "\n",
              "    .dataframe thead th {\n",
              "        text-align: right;\n",
              "    }\n",
              "</style>\n",
              "<table border=\"1\" class=\"dataframe\">\n",
              "  <thead>\n",
              "    <tr style=\"text-align: right;\">\n",
              "      <th></th>\n",
              "      <th>userId</th>\n",
              "      <th>movieId</th>\n",
              "      <th>rating</th>\n",
              "    </tr>\n",
              "  </thead>\n",
              "  <tbody>\n",
              "    <tr>\n",
              "      <th>0</th>\n",
              "      <td>1</td>\n",
              "      <td>1</td>\n",
              "      <td>4.0</td>\n",
              "    </tr>\n",
              "    <tr>\n",
              "      <th>1</th>\n",
              "      <td>1</td>\n",
              "      <td>3</td>\n",
              "      <td>4.0</td>\n",
              "    </tr>\n",
              "    <tr>\n",
              "      <th>2</th>\n",
              "      <td>1</td>\n",
              "      <td>6</td>\n",
              "      <td>4.0</td>\n",
              "    </tr>\n",
              "    <tr>\n",
              "      <th>3</th>\n",
              "      <td>1</td>\n",
              "      <td>47</td>\n",
              "      <td>5.0</td>\n",
              "    </tr>\n",
              "    <tr>\n",
              "      <th>4</th>\n",
              "      <td>1</td>\n",
              "      <td>50</td>\n",
              "      <td>5.0</td>\n",
              "    </tr>\n",
              "  </tbody>\n",
              "</table>\n",
              "</div>"
            ],
            "text/plain": [
              "   userId  movieId  rating\n",
              "0       1        1     4.0\n",
              "1       1        3     4.0\n",
              "2       1        6     4.0\n",
              "3       1       47     5.0\n",
              "4       1       50     5.0"
            ]
          },
          "metadata": {
            "tags": []
          },
          "execution_count": 16
        }
      ]
    },
    {
      "cell_type": "code",
      "metadata": {
        "id": "L8dpdszVegat",
        "colab_type": "code",
        "colab": {
          "base_uri": "https://localhost:8080/",
          "height": 212
        },
        "outputId": "b26c6a05-30f2-4c69-ea37-0389821375e9"
      },
      "source": [
        "df_ratings = reduce_item_dim(df_ratings)\n",
        "print('reduce item dimension after:')\n",
        "df_ratings.head()"
      ],
      "execution_count": 17,
      "outputs": [
        {
          "output_type": "stream",
          "text": [
            "reduce item dimension after:\n"
          ],
          "name": "stdout"
        },
        {
          "output_type": "execute_result",
          "data": {
            "text/html": [
              "<div>\n",
              "<style scoped>\n",
              "    .dataframe tbody tr th:only-of-type {\n",
              "        vertical-align: middle;\n",
              "    }\n",
              "\n",
              "    .dataframe tbody tr th {\n",
              "        vertical-align: top;\n",
              "    }\n",
              "\n",
              "    .dataframe thead th {\n",
              "        text-align: right;\n",
              "    }\n",
              "</style>\n",
              "<table border=\"1\" class=\"dataframe\">\n",
              "  <thead>\n",
              "    <tr style=\"text-align: right;\">\n",
              "      <th></th>\n",
              "      <th>userId</th>\n",
              "      <th>movieId</th>\n",
              "      <th>rating</th>\n",
              "    </tr>\n",
              "  </thead>\n",
              "  <tbody>\n",
              "    <tr>\n",
              "      <th>0</th>\n",
              "      <td>1</td>\n",
              "      <td>0</td>\n",
              "      <td>4.0</td>\n",
              "    </tr>\n",
              "    <tr>\n",
              "      <th>1</th>\n",
              "      <td>1</td>\n",
              "      <td>2</td>\n",
              "      <td>4.0</td>\n",
              "    </tr>\n",
              "    <tr>\n",
              "      <th>2</th>\n",
              "      <td>1</td>\n",
              "      <td>5</td>\n",
              "      <td>4.0</td>\n",
              "    </tr>\n",
              "    <tr>\n",
              "      <th>3</th>\n",
              "      <td>1</td>\n",
              "      <td>43</td>\n",
              "      <td>5.0</td>\n",
              "    </tr>\n",
              "    <tr>\n",
              "      <th>4</th>\n",
              "      <td>1</td>\n",
              "      <td>46</td>\n",
              "      <td>5.0</td>\n",
              "    </tr>\n",
              "  </tbody>\n",
              "</table>\n",
              "</div>"
            ],
            "text/plain": [
              "   userId movieId  rating\n",
              "0       1       0     4.0\n",
              "1       1       2     4.0\n",
              "2       1       5     4.0\n",
              "3       1      43     5.0\n",
              "4       1      46     5.0"
            ]
          },
          "metadata": {
            "tags": []
          },
          "execution_count": 17
        }
      ]
    },
    {
      "cell_type": "markdown",
      "metadata": {
        "id": "0BUYVJUSntmx",
        "colab_type": "text"
      },
      "source": [
        "#2. Split Data Into Train/Test"
      ]
    },
    {
      "cell_type": "code",
      "metadata": {
        "id": "URSQtWiceql4",
        "colab_type": "code",
        "colab": {
          "base_uri": "https://localhost:8080/",
          "height": 84
        },
        "outputId": "c850c39c-0db4-41f6-d031-d7533d16cee7"
      },
      "source": [
        "df_train, df_test = train_test_split(df_ratings, test_size = 0.2, shuffle= True, random_state =99)\n",
        "print('shape of training data set:')\n",
        "print(df_train.shape)\n",
        "print('shape of test data set:')\n",
        "print(df_test.shape)"
      ],
      "execution_count": 19,
      "outputs": [
        {
          "output_type": "stream",
          "text": [
            "shape of training data set:\n",
            "(80668, 3)\n",
            "shape of test data set:\n",
            "(20168, 3)\n"
          ],
          "name": "stdout"
        }
      ]
    },
    {
      "cell_type": "markdown",
      "metadata": {
        "id": "TwMIJ7cXnx9E",
        "colab_type": "text"
      },
      "source": [
        "\n",
        "#3. Train Generalized Matrix Factorization and Test Model\n",
        "###define GMF model architeture and train routine"
      ]
    },
    {
      "cell_type": "code",
      "metadata": {
        "id": "wPyHj8n5f_sI",
        "colab_type": "code",
        "colab": {}
      },
      "source": [
        "def get_GMF_model(num_users, num_items, latent_dim, vu_reg, vi_reg):\n",
        "    \"\"\"\n",
        "    Build Generalized Matrix Factorization Model Topology\n",
        "    \n",
        "    Parameters\n",
        "    ----------\n",
        "    num_users: int, total number of users\n",
        "    num_iterms: int, total number of items\n",
        "    latent_dim: int, embedded dimension for user vector and item vector\n",
        "    vu_reg: float, L2 regularization of user embedded layer\n",
        "    vi_reg: float, L2 regularization of item embedded layer\n",
        "\n",
        "    Return\n",
        "    ------\n",
        "    A Keras Model with GMF model architeture\n",
        "    \"\"\"\n",
        "    # Input variables\n",
        "    user_input = Input(shape=(1,), dtype='int32', name='user_input')\n",
        "    item_input = Input(shape=(1,), dtype='int32', name='item_input')\n",
        "\n",
        "    MF_Embedding_User = Embedding(\n",
        "        input_dim=num_users + 1,\n",
        "        output_dim=latent_dim,\n",
        "        embeddings_initializer='uniform',\n",
        "        name='user_embedding',\n",
        "        embeddings_regularizer=l2(vu_reg),\n",
        "        input_length=1)\n",
        "    MF_Embedding_Item = Embedding(\n",
        "        input_dim=num_items + 1,\n",
        "        output_dim=latent_dim,\n",
        "        embeddings_initializer='uniform',\n",
        "        name='item_embedding',\n",
        "        embeddings_regularizer=l2(vi_reg),\n",
        "        input_length=1) \n",
        "    \n",
        "    # Crucial to flatten an embedding vector!\n",
        "    user_latent = Flatten()(MF_Embedding_User(user_input))\n",
        "    item_latent = Flatten()(MF_Embedding_Item(item_input))\n",
        "\n",
        "    # Element-wise product of user and item embeddings \n",
        "    predict_vector = Multiply()([user_latent, item_latent])\n",
        "    \n",
        "    # Final prediction layer\n",
        "    prediction = Dense(1, kernel_initializer='glorot_uniform', name='prediction')(predict_vector)\n",
        "    \n",
        "    # Stitch input and output\n",
        "    model = Model([user_input, item_input], prediction)\n",
        "    \n",
        "    return model\n",
        "\n",
        "\n",
        "def train_model(model, learner, batch_size, epochs, val_split, inputs, outputs):\n",
        "    \"\"\"\n",
        "    define training routine, train models and save best model\n",
        "    \n",
        "    Parameters\n",
        "    ----------\n",
        "    model: a Keras model\n",
        "    learner: str, one of ['sgd', 'adam', 'rmsprop', 'adagrad']\n",
        "    batch_size: num samples per update\n",
        "    epochs: num iterations\n",
        "    val_split: split ratio for validation data\n",
        "    inputs: inputs data\n",
        "    outputs: outputs data\n",
        "    \"\"\"\n",
        "    # add customized metric\n",
        "    def rmse(y_true, y_pred):\n",
        "        return K.sqrt(K.mean(K.square(y_true - y_pred)))\n",
        "    \n",
        "    # compile model\n",
        "    model.compile(optimizer=learner.lower(), loss='mean_squared_error', metrics=['mean_squared_error', rmse])\n",
        "    \n",
        "    # add call backs\n",
        "    early_stopper = EarlyStopping(monitor='val_rmse', patience=10, verbose=1)\n",
        "    model_saver = ModelCheckpoint(filepath=os.path.join(data_path, 'tmp/model.hdf5'),\n",
        "                                  monitor='val_rmse',\n",
        "                                  save_best_only=True,\n",
        "                                  save_weights_only=True)\n",
        "    # train model\n",
        "    history = model.fit(inputs, outputs,\n",
        "                        batch_size=batch_size,\n",
        "                        epochs=epochs,\n",
        "                        validation_split=val_split,\n",
        "                        callbacks=[early_stopper, model_saver])\n",
        "    return history\n",
        "\n",
        "\n",
        "def load_trained_model(model, weights_path):\n",
        "    model.load_weights(weights_path)\n",
        "    return model\n",
        "    "
      ],
      "execution_count": 0,
      "outputs": []
    },
    {
      "cell_type": "markdown",
      "metadata": {
        "id": "kzyRE3mVn-4F",
        "colab_type": "text"
      },
      "source": [
        "###create GMF model"
      ]
    },
    {
      "cell_type": "code",
      "metadata": {
        "id": "ZKVg7XukgIAi",
        "colab_type": "code",
        "colab": {
          "base_uri": "https://localhost:8080/",
          "height": 457
        },
        "outputId": "d4b2c479-c641-48d3-be30-cd1d159e77eb"
      },
      "source": [
        "GMF_model = get_GMF_model(num_users, num_items, 10, 0, 0)\n",
        "GMF_model.summary()\n"
      ],
      "execution_count": 23,
      "outputs": [
        {
          "output_type": "stream",
          "text": [
            "Model: \"model\"\n",
            "__________________________________________________________________________________________________\n",
            "Layer (type)                    Output Shape         Param #     Connected to                     \n",
            "==================================================================================================\n",
            "user_input (InputLayer)         [(None, 1)]          0                                            \n",
            "__________________________________________________________________________________________________\n",
            "item_input (InputLayer)         [(None, 1)]          0                                            \n",
            "__________________________________________________________________________________________________\n",
            "user_embedding (Embedding)      (None, 1, 10)        6110        user_input[0][0]                 \n",
            "__________________________________________________________________________________________________\n",
            "item_embedding (Embedding)      (None, 1, 10)        97250       item_input[0][0]                 \n",
            "__________________________________________________________________________________________________\n",
            "flatten_2 (Flatten)             (None, 10)           0           user_embedding[0][0]             \n",
            "__________________________________________________________________________________________________\n",
            "flatten_3 (Flatten)             (None, 10)           0           item_embedding[0][0]             \n",
            "__________________________________________________________________________________________________\n",
            "multiply_1 (Multiply)           (None, 10)           0           flatten_2[0][0]                  \n",
            "                                                                 flatten_3[0][0]                  \n",
            "__________________________________________________________________________________________________\n",
            "prediction (Dense)              (None, 1)            11          multiply_1[0][0]                 \n",
            "==================================================================================================\n",
            "Total params: 103,371\n",
            "Trainable params: 103,371\n",
            "Non-trainable params: 0\n",
            "__________________________________________________________________________________________________\n"
          ],
          "name": "stdout"
        }
      ]
    },
    {
      "cell_type": "markdown",
      "metadata": {
        "id": "OBiAZmOtoEDn",
        "colab_type": "text"
      },
      "source": [
        "###train GMF model"
      ]
    },
    {
      "cell_type": "code",
      "metadata": {
        "id": "zC7tjeNogtmj",
        "colab_type": "code",
        "colab": {
          "base_uri": "https://localhost:8080/",
          "height": 574
        },
        "outputId": "161f1393-9a4b-4204-bea4-b654400d9e9d"
      },
      "source": [
        "#model config\n",
        "BATCH_SIZE = 64\n",
        "EPOCHS = 30\n",
        "VAL_SPLIT = 0.25\n",
        "\n",
        "#train_model\n",
        "history = train_model(GMF_model, 'adam', BATCH_SIZE, EPOCHS, VAL_SPLIT,\n",
        "                      inputs =[df_train.userId.values, df_train.movieId.values],\n",
        "                      outputs = df_train.rating.values)"
      ],
      "execution_count": 28,
      "outputs": [
        {
          "output_type": "stream",
          "text": [
            "Train on 60501 samples, validate on 20167 samples\n",
            "Epoch 1/30\n",
            "60501/60501 [==============================] - 4s 62us/sample - loss: 2.5807 - mean_squared_error: 2.5807 - rmse: 1.5776 - val_loss: 1.6081 - val_mean_squared_error: 1.6081 - val_rmse: 1.2640\n",
            "Epoch 2/30\n",
            "60501/60501 [==============================] - 4s 63us/sample - loss: 1.1438 - mean_squared_error: 1.1438 - rmse: 1.0640 - val_loss: 1.0914 - val_mean_squared_error: 1.0914 - val_rmse: 1.0385\n",
            "Epoch 3/30\n",
            "60501/60501 [==============================] - 4s 64us/sample - loss: 0.8346 - mean_squared_error: 0.8346 - rmse: 0.9084 - val_loss: 0.9552 - val_mean_squared_error: 0.9552 - val_rmse: 0.9728\n",
            "Epoch 4/30\n",
            "60501/60501 [==============================] - 4s 63us/sample - loss: 0.7166 - mean_squared_error: 0.7166 - rmse: 0.8421 - val_loss: 0.9126 - val_mean_squared_error: 0.9126 - val_rmse: 0.9507\n",
            "Epoch 5/30\n",
            "60501/60501 [==============================] - 4s 60us/sample - loss: 0.6514 - mean_squared_error: 0.6514 - rmse: 0.8025 - val_loss: 0.8996 - val_mean_squared_error: 0.8996 - val_rmse: 0.9421\n",
            "Epoch 6/30\n",
            "60501/60501 [==============================] - 4s 60us/sample - loss: 0.6037 - mean_squared_error: 0.6037 - rmse: 0.7723 - val_loss: 0.8994 - val_mean_squared_error: 0.8994 - val_rmse: 0.9422\n",
            "Epoch 7/30\n",
            "60501/60501 [==============================] - 4s 59us/sample - loss: 0.5645 - mean_squared_error: 0.5645 - rmse: 0.7463 - val_loss: 0.9007 - val_mean_squared_error: 0.9007 - val_rmse: 0.9437\n",
            "Epoch 8/30\n",
            "60501/60501 [==============================] - 4s 60us/sample - loss: 0.5291 - mean_squared_error: 0.5291 - rmse: 0.7230 - val_loss: 0.9096 - val_mean_squared_error: 0.9096 - val_rmse: 0.9483\n",
            "Epoch 9/30\n",
            "60501/60501 [==============================] - 4s 59us/sample - loss: 0.4983 - mean_squared_error: 0.4983 - rmse: 0.7010 - val_loss: 0.9166 - val_mean_squared_error: 0.9166 - val_rmse: 0.9524\n",
            "Epoch 10/30\n",
            "60501/60501 [==============================] - 4s 60us/sample - loss: 0.4709 - mean_squared_error: 0.4709 - rmse: 0.6812 - val_loss: 0.9294 - val_mean_squared_error: 0.9294 - val_rmse: 0.9580\n",
            "Epoch 11/30\n",
            "60501/60501 [==============================] - 4s 59us/sample - loss: 0.4459 - mean_squared_error: 0.4459 - rmse: 0.6629 - val_loss: 0.9392 - val_mean_squared_error: 0.9392 - val_rmse: 0.9630\n",
            "Epoch 12/30\n",
            "60501/60501 [==============================] - 4s 59us/sample - loss: 0.4228 - mean_squared_error: 0.4228 - rmse: 0.6455 - val_loss: 0.9500 - val_mean_squared_error: 0.9500 - val_rmse: 0.9696\n",
            "Epoch 13/30\n",
            "60501/60501 [==============================] - 4s 59us/sample - loss: 0.4025 - mean_squared_error: 0.4025 - rmse: 0.6294 - val_loss: 0.9661 - val_mean_squared_error: 0.9661 - val_rmse: 0.9777\n",
            "Epoch 14/30\n",
            "60501/60501 [==============================] - 4s 59us/sample - loss: 0.3836 - mean_squared_error: 0.3836 - rmse: 0.6146 - val_loss: 0.9822 - val_mean_squared_error: 0.9822 - val_rmse: 0.9856\n",
            "Epoch 15/30\n",
            "60501/60501 [==============================] - 4s 59us/sample - loss: 0.3661 - mean_squared_error: 0.3661 - rmse: 0.6004 - val_loss: 0.9954 - val_mean_squared_error: 0.9954 - val_rmse: 0.9914\n",
            "Epoch 00015: early stopping\n"
          ],
          "name": "stdout"
        }
      ]
    },
    {
      "cell_type": "markdown",
      "metadata": {
        "id": "v_iIKhJ2oIuG",
        "colab_type": "text"
      },
      "source": [
        "###GMF learning curve"
      ]
    },
    {
      "cell_type": "code",
      "metadata": {
        "id": "Ye1hoDpygNDO",
        "colab_type": "code",
        "colab": {}
      },
      "source": [
        "def plot_learning_curve(history, metric):\n",
        "    \"\"\"\n",
        "    Plot learning curve to compare training error vs. validation error\n",
        "    \"\"\"\n",
        "    # get training error\n",
        "    errors = history.history[metric]\n",
        "    # get validation error\n",
        "    val_errors = history.history['val_{}'.format(metric)]\n",
        "    # get epochs\n",
        "    epochs = range(1, len(errors) + 1)\n",
        "\n",
        "    # plot\n",
        "    plt.figure(figsize=(12, 7))\n",
        "    plt.plot(epochs, errors, 'bo', label='training {}'.format(metric))\n",
        "    plt.plot(epochs, val_errors, 'b', label='validation {}'.format(metric))\n",
        "    plt.xlabel('number of epochs')\n",
        "    plt.ylabel(metric)\n",
        "    plt.title('Model Learning Curve')\n",
        "    plt.grid(True)\n",
        "    plt.legend()\n",
        "    plt.show()"
      ],
      "execution_count": 0,
      "outputs": []
    },
    {
      "cell_type": "code",
      "metadata": {
        "id": "9kMj66YvjUqy",
        "colab_type": "code",
        "colab": {
          "base_uri": "https://localhost:8080/",
          "height": 478
        },
        "outputId": "016ac0c8-59ca-4cdc-fd9b-5cfed4593322"
      },
      "source": [
        "plot_learning_curve(history, 'rmse')\n"
      ],
      "execution_count": 31,
      "outputs": [
        {
          "output_type": "display_data",
          "data": {
            "image/png": "[encoded data removed]",
            "text/plain": [
              "<Figure size 864x504 with 1 Axes>"
            ]
          },
          "metadata": {
            "tags": []
          }
        }
      ]
    },
    {
      "cell_type": "markdown",
      "metadata": {
        "id": "dyEhgeARoPk-",
        "colab_type": "text"
      },
      "source": [
        "###GMF model testing\n",
        "And finally, make a prediction and check the testing error using out-of-sample data"
      ]
    },
    {
      "cell_type": "code",
      "metadata": {
        "id": "E8kPWIJKjVQC",
        "colab_type": "code",
        "colab": {}
      },
      "source": [
        "# define rmse function\n",
        "rmse = lambda true, pred: np.sqrt(np.mean(np.square(np.squeeze(predictions) - np.squeeze(df_test.rating.values))))"
      ],
      "execution_count": 0,
      "outputs": []
    },
    {
      "cell_type": "code",
      "metadata": {
        "id": "NBJixQNHja-M",
        "colab_type": "code",
        "colab": {
          "base_uri": "https://localhost:8080/",
          "height": 34
        },
        "outputId": "25181ad7-875e-4c0e-9498-ce84108862bb"
      },
      "source": [
        "# load best model\n",
        "GMF_model = get_GMF_model(num_users, num_items, 10, 0, 0)\n",
        "GMF_model = load_trained_model(GMF_model, os.path.join(data_path, 'tmp/model.hdf5'))\n",
        "# make prediction using test data\n",
        "predictions = GMF_model.predict([df_test.userId.values, df_test.movieId.values])\n",
        "# get the RMSE\n",
        "error = rmse(df_test.rating.values, predictions)\n",
        "print('The out-of-sample RMSE of rating predictions is', round(error, 4))"
      ],
      "execution_count": 33,
      "outputs": [
        {
          "output_type": "stream",
          "text": [
            "The out-of-sample RMSE of rating predictions is 0.9462\n"
          ],
          "name": "stdout"
        }
      ]
    },
    {
      "cell_type": "markdown",
      "metadata": {
        "id": "CiRVHHXAoW2T",
        "colab_type": "text"
      },
      "source": [
        "#4. Train Multi-Layer Perceptron Model and Test Model\n",
        "###define MLP model architeture"
      ]
    },
    {
      "cell_type": "code",
      "metadata": {
        "id": "zL0vX9s4jdeN",
        "colab_type": "code",
        "colab": {}
      },
      "source": [
        "def get_MLP_model(num_users, num_items, layers, reg_layers):\n",
        "    \"\"\"\n",
        "    Build Multi-Layer Perceptron Model Topology\n",
        "    \n",
        "    Parameters\n",
        "    ----------\n",
        "    num_users: int, total number of users\n",
        "    num_iterms: int, total number of items\n",
        "    layers: list of int, each element is the number of hidden units for each layer,\n",
        "        with the exception of first element. First element is the sum of dims of\n",
        "        user latent vector and item latent vector\n",
        "    reg_layers: list of int, each element is the L2 regularization parameter for\n",
        "        each layer in MLP\n",
        "\n",
        "    Return\n",
        "    ------\n",
        "    A Keras Model with MLP model architeture\n",
        "    \"\"\"\n",
        "    assert len(layers) == len(reg_layers)\n",
        "    num_layer = len(layers) # Number of layers in the MLP\n",
        "    # Input variables\n",
        "    user_input = Input(shape=(1,), dtype='int32', name='user_input')\n",
        "    item_input = Input(shape=(1,), dtype='int32', name='item_input')\n",
        "\n",
        "    MLP_Embedding_User = Embedding(\n",
        "        input_dim=num_users + 1,\n",
        "        output_dim=layers[0] // 2,\n",
        "        embeddings_initializer='uniform',\n",
        "        name='user_embedding',\n",
        "        embeddings_regularizer=l2(reg_layers[0]),\n",
        "        input_length=1)\n",
        "    MLP_Embedding_Item = Embedding(\n",
        "        input_dim=num_items + 1,\n",
        "        output_dim=layers[0] // 2,\n",
        "        embeddings_initializer='uniform',\n",
        "        name='item_embedding',\n",
        "        embeddings_regularizer=l2(reg_layers[0]),\n",
        "        input_length=1) \n",
        "    \n",
        "    # Crucial to flatten an embedding vector!\n",
        "    user_latent = Flatten()(MLP_Embedding_User(user_input))\n",
        "    item_latent = Flatten()(MLP_Embedding_Item(item_input))\n",
        "\n",
        "    # The 0-th layer is the concatenation of embedding layers\n",
        "    vector = Concatenate(axis=-1)([user_latent, item_latent])\n",
        "\n",
        "    # MLP layers\n",
        "    for idx in range(1, num_layer):\n",
        "        layer = Dense(\n",
        "            units=layers[idx],\n",
        "            activation='relu',\n",
        "            kernel_initializer='glorot_uniform',\n",
        "            kernel_regularizer=l2(reg_layers[idx]),\n",
        "            name = 'layer%d' %idx)\n",
        "        vector = layer(vector)\n",
        "    \n",
        "    # Final prediction layer\n",
        "    prediction = Dense(1, kernel_initializer='glorot_uniform', name='prediction')(vector)\n",
        "    \n",
        "    # Stitch input and output\n",
        "    model = Model([user_input, item_input], prediction)\n",
        "    \n",
        "    return model"
      ],
      "execution_count": 0,
      "outputs": []
    },
    {
      "cell_type": "markdown",
      "metadata": {
        "id": "2MhsE294ob_W",
        "colab_type": "text"
      },
      "source": [
        "###create MLP model"
      ]
    },
    {
      "cell_type": "code",
      "metadata": {
        "id": "7yPDXXtHjjem",
        "colab_type": "code",
        "colab": {
          "base_uri": "https://localhost:8080/",
          "height": 558
        },
        "outputId": "96585865-0984-4042-b121-2b9e8e5b563e"
      },
      "source": [
        "MLP_model = get_MLP_model(num_users, num_items, [64, 32, 16, 8], [0, 0, 0, 0])\n",
        "MLP_model.summary()"
      ],
      "execution_count": 35,
      "outputs": [
        {
          "output_type": "stream",
          "text": [
            "Model: \"model_2\"\n",
            "__________________________________________________________________________________________________\n",
            "Layer (type)                    Output Shape         Param #     Connected to                     \n",
            "==================================================================================================\n",
            "user_input (InputLayer)         [(None, 1)]          0                                            \n",
            "__________________________________________________________________________________________________\n",
            "item_input (InputLayer)         [(None, 1)]          0                                            \n",
            "__________________________________________________________________________________________________\n",
            "user_embedding (Embedding)      (None, 1, 32)        19552       user_input[0][0]                 \n",
            "__________________________________________________________________________________________________\n",
            "item_embedding (Embedding)      (None, 1, 32)        311200      item_input[0][0]                 \n",
            "__________________________________________________________________________________________________\n",
            "flatten_6 (Flatten)             (None, 32)           0           user_embedding[0][0]             \n",
            "__________________________________________________________________________________________________\n",
            "flatten_7 (Flatten)             (None, 32)           0           item_embedding[0][0]             \n",
            "__________________________________________________________________________________________________\n",
            "concatenate (Concatenate)       (None, 64)           0           flatten_6[0][0]                  \n",
            "                                                                 flatten_7[0][0]                  \n",
            "__________________________________________________________________________________________________\n",
            "layer1 (Dense)                  (None, 32)           2080        concatenate[0][0]                \n",
            "__________________________________________________________________________________________________\n",
            "layer2 (Dense)                  (None, 16)           528         layer1[0][0]                     \n",
            "__________________________________________________________________________________________________\n",
            "layer3 (Dense)                  (None, 8)            136         layer2[0][0]                     \n",
            "__________________________________________________________________________________________________\n",
            "prediction (Dense)              (None, 1)            9           layer3[0][0]                     \n",
            "==================================================================================================\n",
            "Total params: 333,505\n",
            "Trainable params: 333,505\n",
            "Non-trainable params: 0\n",
            "__________________________________________________________________________________________________\n"
          ],
          "name": "stdout"
        }
      ]
    },
    {
      "cell_type": "markdown",
      "metadata": {
        "id": "QCFFgS3XoiKg",
        "colab_type": "text"
      },
      "source": [
        "###train MLP model"
      ]
    },
    {
      "cell_type": "code",
      "metadata": {
        "id": "mlq5Uz3GjmSb",
        "colab_type": "code",
        "colab": {
          "base_uri": "https://localhost:8080/",
          "height": 507
        },
        "outputId": "2db3b394-a824-413c-e320-69faa0eb626c"
      },
      "source": [
        "# model config\n",
        "BATCH_SIZE = 64\n",
        "EPOCHS = 30\n",
        "VAL_SPLIT = 0.25\n",
        "\n",
        "# train model\n",
        "history = train_model(MLP_model, 'adam', BATCH_SIZE, EPOCHS, VAL_SPLIT, \n",
        "                      inputs=[df_train.userId.values, df_train.movieId.values],\n",
        "                      outputs=df_train.rating.values)"
      ],
      "execution_count": 36,
      "outputs": [
        {
          "output_type": "stream",
          "text": [
            "Train on 60501 samples, validate on 20167 samples\n",
            "Epoch 1/30\n",
            "60501/60501 [==============================] - 5s 78us/sample - loss: 1.6983 - mean_squared_error: 1.6983 - rmse: 1.1260 - val_loss: 0.7861 - val_mean_squared_error: 0.7861 - val_rmse: 0.8817\n",
            "Epoch 2/30\n",
            "60501/60501 [==============================] - 4s 73us/sample - loss: 0.7233 - mean_squared_error: 0.7233 - rmse: 0.8458 - val_loss: 0.7665 - val_mean_squared_error: 0.7665 - val_rmse: 0.8705\n",
            "Epoch 3/30\n",
            "60501/60501 [==============================] - 4s 73us/sample - loss: 0.6756 - mean_squared_error: 0.6756 - rmse: 0.8169 - val_loss: 0.7571 - val_mean_squared_error: 0.7571 - val_rmse: 0.8638\n",
            "Epoch 4/30\n",
            "60501/60501 [==============================] - 4s 73us/sample - loss: 0.6426 - mean_squared_error: 0.6426 - rmse: 0.7966 - val_loss: 0.7573 - val_mean_squared_error: 0.7573 - val_rmse: 0.8639\n",
            "Epoch 5/30\n",
            "60501/60501 [==============================] - 4s 73us/sample - loss: 0.6098 - mean_squared_error: 0.6098 - rmse: 0.7760 - val_loss: 0.7554 - val_mean_squared_error: 0.7554 - val_rmse: 0.8646\n",
            "Epoch 6/30\n",
            "60501/60501 [==============================] - 4s 72us/sample - loss: 0.5760 - mean_squared_error: 0.5760 - rmse: 0.7535 - val_loss: 0.7855 - val_mean_squared_error: 0.7855 - val_rmse: 0.8808\n",
            "Epoch 7/30\n",
            "60501/60501 [==============================] - 4s 73us/sample - loss: 0.5400 - mean_squared_error: 0.5400 - rmse: 0.7299 - val_loss: 0.7914 - val_mean_squared_error: 0.7914 - val_rmse: 0.8832\n",
            "Epoch 8/30\n",
            "60501/60501 [==============================] - 4s 73us/sample - loss: 0.5056 - mean_squared_error: 0.5056 - rmse: 0.7057 - val_loss: 0.8113 - val_mean_squared_error: 0.8113 - val_rmse: 0.8947\n",
            "Epoch 9/30\n",
            "60501/60501 [==============================] - 4s 73us/sample - loss: 0.4716 - mean_squared_error: 0.4716 - rmse: 0.6817 - val_loss: 0.8253 - val_mean_squared_error: 0.8253 - val_rmse: 0.9034\n",
            "Epoch 10/30\n",
            "60501/60501 [==============================] - 4s 73us/sample - loss: 0.4398 - mean_squared_error: 0.4398 - rmse: 0.6586 - val_loss: 0.8570 - val_mean_squared_error: 0.8570 - val_rmse: 0.9202\n",
            "Epoch 11/30\n",
            "60501/60501 [==============================] - 4s 73us/sample - loss: 0.4101 - mean_squared_error: 0.4101 - rmse: 0.6358 - val_loss: 0.8735 - val_mean_squared_error: 0.8735 - val_rmse: 0.9277\n",
            "Epoch 12/30\n",
            "60501/60501 [==============================] - 4s 73us/sample - loss: 0.3833 - mean_squared_error: 0.3833 - rmse: 0.6145 - val_loss: 0.8859 - val_mean_squared_error: 0.8859 - val_rmse: 0.9367\n",
            "Epoch 13/30\n",
            "60501/60501 [==============================] - 4s 73us/sample - loss: 0.3569 - mean_squared_error: 0.3569 - rmse: 0.5927 - val_loss: 0.8979 - val_mean_squared_error: 0.8979 - val_rmse: 0.9416\n",
            "Epoch 00013: early stopping\n"
          ],
          "name": "stdout"
        }
      ]
    },
    {
      "cell_type": "markdown",
      "metadata": {
        "id": "F6-Dzqxjonlc",
        "colab_type": "text"
      },
      "source": [
        "###MLP learning curve"
      ]
    },
    {
      "cell_type": "code",
      "metadata": {
        "id": "MKTy31msjrRI",
        "colab_type": "code",
        "colab": {
          "base_uri": "https://localhost:8080/",
          "height": 478
        },
        "outputId": "8c81ded0-8314-481e-a8e4-32be4abd3992"
      },
      "source": [
        "plot_learning_curve(history, 'rmse')\n"
      ],
      "execution_count": 37,
      "outputs": [
        {
          "output_type": "display_data",
          "data": {
            "image/png": "[encoded data removed]",
            "text/plain": [
              "<Figure size 864x504 with 1 Axes>"
            ]
          },
          "metadata": {
            "tags": []
          }
        }
      ]
    },
    {
      "cell_type": "markdown",
      "metadata": {
        "id": "VATbwfL2orsn",
        "colab_type": "text"
      },
      "source": [
        "###MLP model testing\n",
        "And finally, make a prediction and check the testing error using out-of-sample data"
      ]
    },
    {
      "cell_type": "code",
      "metadata": {
        "id": "ABPNYejNjtw0",
        "colab_type": "code",
        "colab": {
          "base_uri": "https://localhost:8080/",
          "height": 34
        },
        "outputId": "41fe5ddc-4061-42d3-c692-2698e8f5822f"
      },
      "source": [
        "# load best model\n",
        "MLP_model = get_MLP_model(num_users, num_items, [64, 32, 16, 8], [0, 0, 0, 0])\n",
        "MLP_model = load_trained_model(MLP_model, os.path.join(data_path, 'tmp/model.hdf5'))\n",
        "# make prediction using test data\n",
        "predictions = MLP_model.predict([df_test.userId.values, df_test.movieId.values])\n",
        "# get the RMSE\n",
        "error = rmse(df_test.rating.values, predictions)\n",
        "print('The out-of-sample RMSE of rating predictions is', round(error, 4))"
      ],
      "execution_count": 38,
      "outputs": [
        {
          "output_type": "stream",
          "text": [
            "The out-of-sample RMSE of rating predictions is 0.8709\n"
          ],
          "name": "stdout"
        }
      ]
    },
    {
      "cell_type": "markdown",
      "metadata": {
        "id": "nX5uX09vownv",
        "colab_type": "text"
      },
      "source": [
        "#5. Train Neural Matrix Factorization (NeuMF) and Test Model\n",
        "###define NeuMF model architeture"
      ]
    },
    {
      "cell_type": "code",
      "metadata": {
        "id": "JPgOyKlKjxRi",
        "colab_type": "code",
        "colab": {}
      },
      "source": [
        "def get_NeuMF_model(num_users, num_items, MF_dim, MF_reg, MLP_layers, MLP_regs):\n",
        "    \"\"\"\n",
        "    Build Neural Matrix Factorization (NeuMF) Model Topology.\n",
        "    This is stack version of both GMF and MLP\n",
        "    \n",
        "    Parameters\n",
        "    ----------\n",
        "    num_users: int, total number of users\n",
        "    num_iterms: int, total number of items\n",
        "    MF_dim: int, embedded dimension for user vector and item vector in MF\n",
        "    MF_reg: tuple of float, L2 regularization of MF embedded layer\n",
        "    MLP_layers: list of int, each element is the number of hidden units for each MLP layer,\n",
        "        with the exception of first element. First element is the sum of dims of\n",
        "        user latent vector and item latent vector\n",
        "    MLP_regs: list of int, each element is the L2 regularization parameter for\n",
        "        each layer in MLP\n",
        "\n",
        "    Return\n",
        "    ------\n",
        "    A Keras Model with MLP model architeture\n",
        "    \"\"\"\n",
        "    assert len(MLP_layers) == len(MLP_regs)\n",
        "    num_MLP_layer = len(MLP_layers) # Number of layers in the MLP\n",
        "    # Input variables\n",
        "    user_input = Input(shape=(1,), dtype='int32', name='user_input')\n",
        "    item_input = Input(shape=(1,), dtype='int32', name='item_input')\n",
        "\n",
        "    # Embedding layer\n",
        "    \n",
        "    # MF\n",
        "    MF_Embedding_User = Embedding(\n",
        "        input_dim=num_users + 1,\n",
        "        output_dim=MF_dim,\n",
        "        embeddings_initializer='uniform',\n",
        "        name='mf_user_embedding',\n",
        "        embeddings_regularizer=l2(MF_reg[0]),\n",
        "        input_length=1)\n",
        "    MF_Embedding_Item = Embedding(\n",
        "        input_dim=num_items + 1,\n",
        "        output_dim=MF_dim,\n",
        "        embeddings_initializer='uniform',\n",
        "        name='mf_item_embedding',\n",
        "        embeddings_regularizer=l2(MF_reg[1]),\n",
        "        input_length=1)\n",
        "    \n",
        "    # MLP\n",
        "    MLP_Embedding_User = Embedding(\n",
        "        input_dim=num_users + 1,\n",
        "        output_dim=MLP_layers[0] // 2,\n",
        "        embeddings_initializer='uniform',\n",
        "        name='mlp_user_embedding',\n",
        "        embeddings_regularizer=l2(MLP_regs[0]),\n",
        "        input_length=1)\n",
        "    MLP_Embedding_Item = Embedding(\n",
        "        input_dim=num_items + 1,\n",
        "        output_dim=MLP_layers[0] // 2,\n",
        "        embeddings_initializer='uniform',\n",
        "        name='mlp_item_embedding',\n",
        "        embeddings_regularizer=l2(MLP_regs[0]),\n",
        "        input_length=1) \n",
        "    \n",
        "    # MF part\n",
        "    mf_user_latent = Flatten()(MF_Embedding_User(user_input))\n",
        "    mf_item_latent = Flatten()(MF_Embedding_Item(item_input))\n",
        "    mf_vector = Multiply()([mf_user_latent, mf_item_latent])\n",
        "\n",
        "    # MLP part\n",
        "    mlp_user_latent = Flatten()(MLP_Embedding_User(user_input))\n",
        "    mlp_item_latent = Flatten()(MLP_Embedding_Item(item_input))\n",
        "    mlp_vector = Concatenate(axis=-1)([mlp_user_latent, mlp_item_latent])\n",
        "    for idx in range(1, num_MLP_layer):\n",
        "        layer = Dense(\n",
        "            units=MLP_layers[idx],\n",
        "            activation='relu',\n",
        "            kernel_initializer='glorot_uniform',\n",
        "            kernel_regularizer=l2(MLP_regs[idx]),\n",
        "            name = 'layer%d' %idx)\n",
        "        mlp_vector = layer(mlp_vector)\n",
        "    \n",
        "    # Concatenate MF and MLP parts\n",
        "    predict_vector = Concatenate(axis=-1)([mf_vector, mlp_vector])\n",
        "\n",
        "    # Final prediction layer\n",
        "    prediction = Dense(1, kernel_initializer='glorot_uniform', name='prediction')(predict_vector)\n",
        "    \n",
        "    # Stitch input and output\n",
        "    model = Model([user_input, item_input], prediction)\n",
        "    \n",
        "    return model"
      ],
      "execution_count": 0,
      "outputs": []
    },
    {
      "cell_type": "markdown",
      "metadata": {
        "id": "1yFJf0K4o4ry",
        "colab_type": "text"
      },
      "source": [
        "###create NeuMF model"
      ]
    },
    {
      "cell_type": "code",
      "metadata": {
        "id": "h356vJBkj3m0",
        "colab_type": "code",
        "colab": {
          "base_uri": "https://localhost:8080/",
          "height": 793
        },
        "outputId": "78e4a608-57cf-4499-bbc5-404bdc8ad065"
      },
      "source": [
        "NeuMF_model = get_NeuMF_model(\n",
        "    num_users=num_users,\n",
        "    num_items=num_items,\n",
        "    MF_dim=10,\n",
        "    MF_reg=(0, 0),\n",
        "    MLP_layers=[64, 32, 16, 8],\n",
        "    MLP_regs=[0, 0, 0, 0])\n",
        "NeuMF_model.summary()"
      ],
      "execution_count": 40,
      "outputs": [
        {
          "output_type": "stream",
          "text": [
            "Model: \"model_4\"\n",
            "__________________________________________________________________________________________________\n",
            "Layer (type)                    Output Shape         Param #     Connected to                     \n",
            "==================================================================================================\n",
            "user_input (InputLayer)         [(None, 1)]          0                                            \n",
            "__________________________________________________________________________________________________\n",
            "item_input (InputLayer)         [(None, 1)]          0                                            \n",
            "__________________________________________________________________________________________________\n",
            "mlp_user_embedding (Embedding)  (None, 1, 32)        19552       user_input[0][0]                 \n",
            "__________________________________________________________________________________________________\n",
            "mlp_item_embedding (Embedding)  (None, 1, 32)        311200      item_input[0][0]                 \n",
            "__________________________________________________________________________________________________\n",
            "flatten_12 (Flatten)            (None, 32)           0           mlp_user_embedding[0][0]         \n",
            "__________________________________________________________________________________________________\n",
            "flatten_13 (Flatten)            (None, 32)           0           mlp_item_embedding[0][0]         \n",
            "__________________________________________________________________________________________________\n",
            "concatenate_2 (Concatenate)     (None, 64)           0           flatten_12[0][0]                 \n",
            "                                                                 flatten_13[0][0]                 \n",
            "__________________________________________________________________________________________________\n",
            "mf_user_embedding (Embedding)   (None, 1, 10)        6110        user_input[0][0]                 \n",
            "__________________________________________________________________________________________________\n",
            "mf_item_embedding (Embedding)   (None, 1, 10)        97250       item_input[0][0]                 \n",
            "__________________________________________________________________________________________________\n",
            "layer1 (Dense)                  (None, 32)           2080        concatenate_2[0][0]              \n",
            "__________________________________________________________________________________________________\n",
            "flatten_10 (Flatten)            (None, 10)           0           mf_user_embedding[0][0]          \n",
            "__________________________________________________________________________________________________\n",
            "flatten_11 (Flatten)            (None, 10)           0           mf_item_embedding[0][0]          \n",
            "__________________________________________________________________________________________________\n",
            "layer2 (Dense)                  (None, 16)           528         layer1[0][0]                     \n",
            "__________________________________________________________________________________________________\n",
            "multiply_3 (Multiply)           (None, 10)           0           flatten_10[0][0]                 \n",
            "                                                                 flatten_11[0][0]                 \n",
            "__________________________________________________________________________________________________\n",
            "layer3 (Dense)                  (None, 8)            136         layer2[0][0]                     \n",
            "__________________________________________________________________________________________________\n",
            "concatenate_3 (Concatenate)     (None, 18)           0           multiply_3[0][0]                 \n",
            "                                                                 layer3[0][0]                     \n",
            "__________________________________________________________________________________________________\n",
            "prediction (Dense)              (None, 1)            19          concatenate_3[0][0]              \n",
            "==================================================================================================\n",
            "Total params: 436,875\n",
            "Trainable params: 436,875\n",
            "Non-trainable params: 0\n",
            "__________________________________________________________________________________________________\n"
          ],
          "name": "stdout"
        }
      ]
    },
    {
      "cell_type": "markdown",
      "metadata": {
        "id": "OvBtngqJpEnm",
        "colab_type": "text"
      },
      "source": [
        "###train NeuMF model\n"
      ]
    },
    {
      "cell_type": "code",
      "metadata": {
        "id": "H4gSSF4aj6lc",
        "colab_type": "code",
        "colab": {
          "base_uri": "https://localhost:8080/",
          "height": 474
        },
        "outputId": "8cbd862c-cb62-4edc-dd33-d762cfbd63a6"
      },
      "source": [
        "# model config\n",
        "BATCH_SIZE = 64\n",
        "EPOCHS = 30\n",
        "VAL_SPLIT = 0.25\n",
        "\n",
        "# train model\n",
        "history = train_model(NeuMF_model, 'adam', BATCH_SIZE, EPOCHS, VAL_SPLIT, \n",
        "                      inputs=[df_train.userId.values, df_train.movieId.values],\n",
        "                      outputs=df_train.rating.values)"
      ],
      "execution_count": 41,
      "outputs": [
        {
          "output_type": "stream",
          "text": [
            "Train on 60501 samples, validate on 20167 samples\n",
            "Epoch 1/30\n",
            "60501/60501 [==============================] - 6s 95us/sample - loss: 1.6470 - mean_squared_error: 1.6470 - rmse: 1.1139 - val_loss: 0.7875 - val_mean_squared_error: 0.7875 - val_rmse: 0.8828\n",
            "Epoch 2/30\n",
            "60501/60501 [==============================] - 5s 87us/sample - loss: 0.7126 - mean_squared_error: 0.7126 - rmse: 0.8389 - val_loss: 0.7667 - val_mean_squared_error: 0.7667 - val_rmse: 0.8708\n",
            "Epoch 3/30\n",
            "60501/60501 [==============================] - 5s 86us/sample - loss: 0.5832 - mean_squared_error: 0.5832 - rmse: 0.7589 - val_loss: 0.7814 - val_mean_squared_error: 0.7814 - val_rmse: 0.8787\n",
            "Epoch 4/30\n",
            "60501/60501 [==============================] - 5s 87us/sample - loss: 0.4508 - mean_squared_error: 0.4507 - rmse: 0.6671 - val_loss: 0.8269 - val_mean_squared_error: 0.8269 - val_rmse: 0.9029\n",
            "Epoch 5/30\n",
            "60501/60501 [==============================] - 5s 87us/sample - loss: 0.3724 - mean_squared_error: 0.3724 - rmse: 0.6057 - val_loss: 0.8696 - val_mean_squared_error: 0.8696 - val_rmse: 0.9266\n",
            "Epoch 6/30\n",
            "60501/60501 [==============================] - 5s 88us/sample - loss: 0.3241 - mean_squared_error: 0.3241 - rmse: 0.5644 - val_loss: 0.8955 - val_mean_squared_error: 0.8955 - val_rmse: 0.9421\n",
            "Epoch 7/30\n",
            "60501/60501 [==============================] - 6s 91us/sample - loss: 0.2904 - mean_squared_error: 0.2904 - rmse: 0.5341 - val_loss: 0.9273 - val_mean_squared_error: 0.9273 - val_rmse: 0.9568\n",
            "Epoch 8/30\n",
            "60501/60501 [==============================] - 5s 88us/sample - loss: 0.2637 - mean_squared_error: 0.2637 - rmse: 0.5087 - val_loss: 0.9419 - val_mean_squared_error: 0.9419 - val_rmse: 0.9641\n",
            "Epoch 9/30\n",
            "60501/60501 [==============================] - 5s 87us/sample - loss: 0.2417 - mean_squared_error: 0.2417 - rmse: 0.4870 - val_loss: 0.9677 - val_mean_squared_error: 0.9677 - val_rmse: 0.9771\n",
            "Epoch 10/30\n",
            "60501/60501 [==============================] - 5s 87us/sample - loss: 0.2228 - mean_squared_error: 0.2228 - rmse: 0.4677 - val_loss: 0.9819 - val_mean_squared_error: 0.9819 - val_rmse: 0.9861\n",
            "Epoch 11/30\n",
            "60501/60501 [==============================] - 5s 85us/sample - loss: 0.2074 - mean_squared_error: 0.2074 - rmse: 0.4512 - val_loss: 1.0132 - val_mean_squared_error: 1.0132 - val_rmse: 1.0017\n",
            "Epoch 12/30\n",
            "60501/60501 [==============================] - 5s 87us/sample - loss: 0.1916 - mean_squared_error: 0.1916 - rmse: 0.4335 - val_loss: 1.0250 - val_mean_squared_error: 1.0250 - val_rmse: 1.0061\n",
            "Epoch 00012: early stopping\n"
          ],
          "name": "stdout"
        }
      ]
    },
    {
      "cell_type": "markdown",
      "metadata": {
        "id": "3m1TIGGJsSU9",
        "colab_type": "text"
      },
      "source": [
        "###Neural Matrix Factorization (NeuMF) learning curve"
      ]
    },
    {
      "cell_type": "code",
      "metadata": {
        "id": "bE71o6AOkDrT",
        "colab_type": "code",
        "colab": {
          "base_uri": "https://localhost:8080/",
          "height": 478
        },
        "outputId": "372bb02f-789e-434d-c185-fafdcecf18a3"
      },
      "source": [
        "plot_learning_curve(history, 'rmse')"
      ],
      "execution_count": 42,
      "outputs": [
        {
          "output_type": "display_data",
          "data": {
            "image/png": "[encoded data removed]",
            "text/plain": [
              "<Figure size 864x504 with 1 Axes>"
            ]
          },
          "metadata": {
            "tags": []
          }
        }
      ]
    },
    {
      "cell_type": "markdown",
      "metadata": {
        "id": "hFlrRuQ0sXYq",
        "colab_type": "text"
      },
      "source": [
        "###Neural Matrix Factorization (NeuMF) model testing\n",
        "And finally, make a prediction and check the testing error using out-of-sample data"
      ]
    },
    {
      "cell_type": "code",
      "metadata": {
        "id": "o6Asu-HRkG2p",
        "colab_type": "code",
        "colab": {
          "base_uri": "https://localhost:8080/",
          "height": 34
        },
        "outputId": "6eafdeed-13a4-4a02-e1ee-f1ef7075b721"
      },
      "source": [
        "# load best model\n",
        "NeuMF_model = get_NeuMF_model(\n",
        "    num_users=num_users,\n",
        "    num_items=num_items,\n",
        "    MF_dim=10,\n",
        "    MF_reg=(0, 0),\n",
        "    MLP_layers=[64, 32, 16, 8],\n",
        "    MLP_regs=[0, 0, 0, 0])\n",
        "NeuMF_model = load_trained_model(NeuMF_model, os.path.join(data_path, 'tmp/model.hdf5'))\n",
        "# make prediction using test data\n",
        "predictions = NeuMF_model.predict([df_test.userId.values, df_test.movieId.values])\n",
        "# get the RMSE\n",
        "error = rmse(df_test.rating.values, predictions)\n",
        "print('The out-of-sample RMSE of rating predictions is', round(error, 4))"
      ],
      "execution_count": 43,
      "outputs": [
        {
          "output_type": "stream",
          "text": [
            "The out-of-sample RMSE of rating predictions is 0.8731\n"
          ],
          "name": "stdout"
        }
      ]
    },
    {
      "cell_type": "markdown",
      "metadata": {
        "id": "FEBINUb5sgrh",
        "colab_type": "text"
      },
      "source": [
        "#Observations\n",
        "1. ALS's out-of-sample RMSE is 0.8154\n",
        "2. GMF's out-of-sample RMSE is 0.9462\n",
        "3. MLP's out-of-sample RMSE is 0.8709\n",
        "4. NeuMF's out-of-sample RMSE is 0.8731\n",
        "5. Rating prediction out-of-sample performance in terms of RMSE (the lower the better): ALS < MLP < NeuMF < GMF\n",
        "6. The best model is ALS\n"
      ]
    },
    {
      "cell_type": "markdown",
      "metadata": {
        "id": "t9_H-sc0s2AZ",
        "colab_type": "text"
      },
      "source": [
        "#Conclusion\n",
        "1. Deep neural networks can achieve a better performance in recommendation system, specifically at Collaborative Filtering\n",
        "2. As you increase the depth of the network or broaden the network branches, the performance of the model also increases"
      ]
    },
    {
      "cell_type": "code",
      "metadata": {
        "id": "lIAhUIZokJ1E",
        "colab_type": "code",
        "colab": {}
      },
      "source": [
        ""
      ],
      "execution_count": 0,
      "outputs": []
    }
  ]
}