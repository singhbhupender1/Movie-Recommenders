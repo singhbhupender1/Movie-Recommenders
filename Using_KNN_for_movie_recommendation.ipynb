{
  "nbformat": 4,
  "nbformat_minor": 0,
  "metadata": {
    "colab": {
      "name": "Using KNN for movie recommendation.ipynb",
      "provenance": [],
      "machine_shape": "hm",
      "authorship_tag": "ABX9TyM1rHwtjPjfgLXxLsBF60Y5",
      "include_colab_link": true
    },
    "kernelspec": {
      "name": "python3",
      "display_name": "Python 3"
    },
    "accelerator": "GPU"
  },
  "cells": [
    {
      "cell_type": "markdown",
      "metadata": {
        "id": "view-in-github",
        "colab_type": "text"
      },
      "source": [
        "<a href=\"https://colab.research.google.com/github/singhbhupender1/Movie-Recommenders/blob/master/Using_KNN_for_movie_recommendation.ipynb\" target=\"_parent\"><img src=\"https://colab.research.google.com/assets/colab-badge.svg\" alt=\"Open In Colab\"/></a>"
      ]
    },
    {
      "cell_type": "markdown",
      "metadata": {
        "id": "Q9ACuT_otuGD",
        "colab_type": "text"
      },
      "source": [
        "#Overview\n",
        "In this project, I will build an item-based collaborative filtering system using [MovieLens Datasets](https://grouplens.org/datasets/movielens/latest/). Specically, I will train a KNN models to cluster similar movies based on user's ratings and make movie recommendation based on similarity score of previous rated movies.\n",
        "\n",
        "#[Recommender system](https://en.wikipedia.org/wiki/Recommender_system)\n",
        "A recommendation system is basically an information filtering system that seeks to predict the \"rating\" or \"preference\" a user would give to an item. It is widely used in different internet / online business such as Amazon, Netflix, Spotify, or social media like Facebook and Youtube. By using recommender systems, those companies are able to provide better or more suited products/services/contents that are personalized to a user based on his/her historical consumer behaviors\n",
        "\n",
        "Recommender systems typically produce a list of recommendations through collaborative filtering or through content-based filtering\n",
        "\n",
        "This project will focus on collaborative filtering and use item-based collaborative filtering systems make movie recommendation\n",
        "\n",
        "[Item-based Collaborative Filtering](https://beckernick.github.io/music_recommender/)\n",
        "Collaborative filtering based systems use the actions of users to recommend other items. In general, they can either be user based or item based. User based collaborating filtering uses the patterns of users similar to me to recommend a product (users like me also looked at these other items). Item based collaborative filtering uses the patterns of users who browsed the same item as me to recommend me a product (users who looked at my item also looked at these other items). Item-based approach is usually prefered than user-based approach. User-based approach is often harder to scale because of the dynamic nature of users, whereas items usually don't change much, so item-based approach often can be computed offline.\n",
        "\n",
        "# Data Sets\n",
        "I use MovieLens Datasets. This dataset (ml-latest.zip) describes 5-star rating and free-text tagging activity from MovieLens, a movie recommendation service. It contains 27753444 ratings and 1108997 tag applications across 58098 movies. These data were created by 283228 users between January 09, 1995 and September 26, 2018. This dataset was generated on September 26, 2018.\n",
        "\n",
        "Users were selected at random for inclusion. All selected users had rated at least 1 movies. No demographic information is included. Each user is represented by an id, and no other information is provided.\n",
        "\n",
        "The data are contained in the files genome-scores.csv, genome-tags.csv, links.csv, movies.csv, ratings.csv and tags.csv.\n",
        "\n",
        "# Project Content\n",
        "1. Load data\n",
        "2. Exploratory data analysis\n",
        "3. Train KNN model for item-based \n",
        "4. collaborative filtering\n",
        "5. Use this trained model to make movie recommendations to myself\n",
        "6. Deep dive into the bottleneck of item-based collaborative filtering.\n",
        "7. cold start problem\n",
        "8. data sparsity problem\n",
        "9. popular bias (how to recommend products from the tail of product distribution)\n",
        "10. scalability bottleneck\n",
        "11. Further study"
      ]
    },
    {
      "cell_type": "code",
      "metadata": {
        "id": "siXh1QYtkqic",
        "colab_type": "code",
        "colab": {}
      },
      "source": [
        "# a = []\n",
        "# while(1):\n",
        "#     a.append('1')\n",
        "# get more ram"
      ],
      "execution_count": 0,
      "outputs": []
    },
    {
      "cell_type": "code",
      "metadata": {
        "id": "N8H30-cj1kkR",
        "colab_type": "code",
        "colab": {
          "base_uri": "https://localhost:8080/",
          "height": 222
        },
        "outputId": "786e47bb-da53-4714-c15d-64a15a1cb85c"
      },
      "source": [
        "!wget \"http://files.grouplens.org/datasets/movielens/ml-latest.zip\""
      ],
      "execution_count": 2,
      "outputs": [
        {
          "output_type": "stream",
          "text": [
            "--2020-03-06 07:12:45--  http://files.grouplens.org/datasets/movielens/ml-latest.zip\n",
            "Resolving files.grouplens.org (files.grouplens.org)... 128.101.65.152\n",
            "Connecting to files.grouplens.org (files.grouplens.org)|128.101.65.152|:80... connected.\n",
            "HTTP request sent, awaiting response... 200 OK\n",
            "Length: 277113433 (264M) [application/zip]\n",
            "Saving to: ‘ml-latest.zip.1’\n",
            "\n",
            "ml-latest.zip.1     100%[===================>] 264.28M  17.1MB/s    in 17s     \n",
            "\n",
            "2020-03-06 07:13:03 (15.7 MB/s) - ‘ml-latest.zip.1’ saved [277113433/277113433]\n",
            "\n"
          ],
          "name": "stdout"
        }
      ]
    },
    {
      "cell_type": "code",
      "metadata": {
        "id": "woO1vl892d0M",
        "colab_type": "code",
        "colab": {
          "base_uri": "https://localhost:8080/",
          "height": 34
        },
        "outputId": "2e3a9d0d-39b6-4ca6-b489-695a771a2bca"
      },
      "source": [
        "!pwd"
      ],
      "execution_count": 3,
      "outputs": [
        {
          "output_type": "stream",
          "text": [
            "/content\n"
          ],
          "name": "stdout"
        }
      ]
    },
    {
      "cell_type": "code",
      "metadata": {
        "id": "g0Lmw9jQq90r",
        "colab_type": "code",
        "colab": {}
      },
      "source": [
        "#shutil.rmtree('zip')"
      ],
      "execution_count": 0,
      "outputs": []
    },
    {
      "cell_type": "code",
      "metadata": {
        "id": "jkC3TW25p7AB",
        "colab_type": "code",
        "colab": {}
      },
      "source": [
        "import shutil\n",
        "filename = \"ml-latest.zip\"\n",
        "archive_format = \"zip\"\n",
        "\n",
        "shutil.unpack_archive(filename)  "
      ],
      "execution_count": 0,
      "outputs": []
    },
    {
      "cell_type": "code",
      "metadata": {
        "id": "YcIU6UOj2GLn",
        "colab_type": "code",
        "colab": {}
      },
      "source": [
        "#from zipfile import ZipFile\n",
        "#zip = ZipFile('ml-latest.zip')\n",
        "#zip.extractall()"
      ],
      "execution_count": 0,
      "outputs": []
    },
    {
      "cell_type": "code",
      "metadata": {
        "id": "UnYrtelA46v5",
        "colab_type": "code",
        "colab": {
          "base_uri": "https://localhost:8080/",
          "height": 54
        },
        "outputId": "e522688f-6939-4290-a094-c11ab98a3f7a"
      },
      "source": [
        "!pip install fuzzywuzzy"
      ],
      "execution_count": 7,
      "outputs": [
        {
          "output_type": "stream",
          "text": [
            "Requirement already satisfied: fuzzywuzzy in /usr/local/lib/python3.6/dist-packages (0.18.0)\n"
          ],
          "name": "stdout"
        }
      ]
    },
    {
      "cell_type": "code",
      "metadata": {
        "id": "ZfltfS8-2oD3",
        "colab_type": "code",
        "colab": {
          "base_uri": "https://localhost:8080/",
          "height": 70
        },
        "outputId": "dbc60496-c0d5-4a30-f699-6203dbc1752a"
      },
      "source": [
        "import os\n",
        "import time\n",
        "\n",
        "import math\n",
        "import numpy as np\n",
        "import pandas as pd\n",
        "from scipy.sparse import csr_matrix\n",
        "from sklearn.neighbors import NearestNeighbors\n",
        "\n",
        "#utils import \n",
        "from fuzzywuzzy import fuzz # FuzzyWuzzy is a library of Python \n",
        "                            # which is used for string matching. \n",
        "                            # Fuzzy string matching is the process of \n",
        "                            #finding strings that match a given pattern. \n",
        "                            #Basically it uses Levenshtein Distance to calculate the \n",
        "                            # differences between sequences.\n",
        "# visulization imports\n",
        "import seaborn as sns\n",
        "import matplotlib.pyplot as plt\n",
        "plt.style.use('ggplot')"
      ],
      "execution_count": 8,
      "outputs": [
        {
          "output_type": "stream",
          "text": [
            "/usr/local/lib/python3.6/dist-packages/fuzzywuzzy/fuzz.py:11: UserWarning: Using slow pure-python SequenceMatcher. Install python-Levenshtein to remove this warning\n",
            "  warnings.warn('Using slow pure-python SequenceMatcher. Install python-Levenshtein to remove this warning')\n"
          ],
          "name": "stderr"
        }
      ]
    },
    {
      "cell_type": "code",
      "metadata": {
        "id": "SmORv9174zUU",
        "colab_type": "code",
        "colab": {
          "base_uri": "https://localhost:8080/",
          "height": 34
        },
        "outputId": "18c245de-f4f6-40b4-cc2e-49f343d724cc"
      },
      "source": [
        "#path config \n",
        "data_path = os.path.join('content', 'ml-latest')\n",
        "movie_filename = 'movies.csv'\n",
        "ratings_filename = 'ratings.csv'\n",
        "print(data_path)\n"
      ],
      "execution_count": 9,
      "outputs": [
        {
          "output_type": "stream",
          "text": [
            "content/ml-latest\n"
          ],
          "name": "stdout"
        }
      ]
    },
    {
      "cell_type": "code",
      "metadata": {
        "id": "5UhZg3gSOl9F",
        "colab_type": "code",
        "colab": {}
      },
      "source": [
        "os.path.exists(data_path)\n",
        "data_path = '/content/ml-latest'"
      ],
      "execution_count": 0,
      "outputs": []
    },
    {
      "cell_type": "markdown",
      "metadata": {
        "id": "4-sjuqAu7C3U",
        "colab_type": "text"
      },
      "source": [
        "## 1.Load Data"
      ]
    },
    {
      "cell_type": "code",
      "metadata": {
        "id": "QNH-rkVc7BhF",
        "colab_type": "code",
        "colab": {}
      },
      "source": [
        "df_movies = pd.read_csv(\n",
        "    os.path.join(data_path, movie_filename),\n",
        "                 usecols = ['movieId', 'title'],\n",
        "                 dtype = {'movieid': 'int32', 'title': 'str'})   \n",
        "\n",
        "df_ratings = pd.read_csv(\n",
        "    os.path.join(data_path, ratings_filename),\n",
        "    usecols = ['userId', 'movieId', 'rating'],\n",
        "    dtype = {'userId': 'int32', 'movieId': 'int32', 'rating': 'float32'})"
      ],
      "execution_count": 0,
      "outputs": []
    },
    {
      "cell_type": "code",
      "metadata": {
        "id": "_ov1He1XI_9g",
        "colab_type": "code",
        "colab": {
          "base_uri": "https://localhost:8080/",
          "height": 134
        },
        "outputId": "a96e8921-8573-4549-93a6-85d822b25f40"
      },
      "source": [
        "df_movies.info()"
      ],
      "execution_count": 12,
      "outputs": [
        {
          "output_type": "stream",
          "text": [
            "<class 'pandas.core.frame.DataFrame'>\n",
            "RangeIndex: 58098 entries, 0 to 58097\n",
            "Data columns (total 2 columns):\n",
            "movieId    58098 non-null int64\n",
            "title      58098 non-null object\n",
            "dtypes: int64(1), object(1)\n",
            "memory usage: 907.9+ KB\n"
          ],
          "name": "stdout"
        }
      ]
    },
    {
      "cell_type": "code",
      "metadata": {
        "id": "4wWXizcySq4e",
        "colab_type": "code",
        "colab": {
          "base_uri": "https://localhost:8080/",
          "height": 151
        },
        "outputId": "bdce9711-b42e-4511-f72b-5f72bf4692d0"
      },
      "source": [
        "df_ratings.info()"
      ],
      "execution_count": 13,
      "outputs": [
        {
          "output_type": "stream",
          "text": [
            "<class 'pandas.core.frame.DataFrame'>\n",
            "RangeIndex: 27753444 entries, 0 to 27753443\n",
            "Data columns (total 3 columns):\n",
            "userId     int32\n",
            "movieId    int32\n",
            "rating     float32\n",
            "dtypes: float32(1), int32(2)\n",
            "memory usage: 317.6 MB\n"
          ],
          "name": "stdout"
        }
      ]
    },
    {
      "cell_type": "code",
      "metadata": {
        "id": "o0wzNXm4Su-w",
        "colab_type": "code",
        "colab": {
          "base_uri": "https://localhost:8080/",
          "height": 195
        },
        "outputId": "395b4c27-4413-49b9-fca1-791c2545e094"
      },
      "source": [
        "df_movies.head()"
      ],
      "execution_count": 14,
      "outputs": [
        {
          "output_type": "execute_result",
          "data": {
            "text/html": [
              "<div>\n",
              "<style scoped>\n",
              "    .dataframe tbody tr th:only-of-type {\n",
              "        vertical-align: middle;\n",
              "    }\n",
              "\n",
              "    .dataframe tbody tr th {\n",
              "        vertical-align: top;\n",
              "    }\n",
              "\n",
              "    .dataframe thead th {\n",
              "        text-align: right;\n",
              "    }\n",
              "</style>\n",
              "<table border=\"1\" class=\"dataframe\">\n",
              "  <thead>\n",
              "    <tr style=\"text-align: right;\">\n",
              "      <th></th>\n",
              "      <th>movieId</th>\n",
              "      <th>title</th>\n",
              "    </tr>\n",
              "  </thead>\n",
              "  <tbody>\n",
              "    <tr>\n",
              "      <th>0</th>\n",
              "      <td>1</td>\n",
              "      <td>Toy Story (1995)</td>\n",
              "    </tr>\n",
              "    <tr>\n",
              "      <th>1</th>\n",
              "      <td>2</td>\n",
              "      <td>Jumanji (1995)</td>\n",
              "    </tr>\n",
              "    <tr>\n",
              "      <th>2</th>\n",
              "      <td>3</td>\n",
              "      <td>Grumpier Old Men (1995)</td>\n",
              "    </tr>\n",
              "    <tr>\n",
              "      <th>3</th>\n",
              "      <td>4</td>\n",
              "      <td>Waiting to Exhale (1995)</td>\n",
              "    </tr>\n",
              "    <tr>\n",
              "      <th>4</th>\n",
              "      <td>5</td>\n",
              "      <td>Father of the Bride Part II (1995)</td>\n",
              "    </tr>\n",
              "  </tbody>\n",
              "</table>\n",
              "</div>"
            ],
            "text/plain": [
              "   movieId                               title\n",
              "0        1                    Toy Story (1995)\n",
              "1        2                      Jumanji (1995)\n",
              "2        3             Grumpier Old Men (1995)\n",
              "3        4            Waiting to Exhale (1995)\n",
              "4        5  Father of the Bride Part II (1995)"
            ]
          },
          "metadata": {
            "tags": []
          },
          "execution_count": 14
        }
      ]
    },
    {
      "cell_type": "code",
      "metadata": {
        "id": "3bW86tqaSw--",
        "colab_type": "code",
        "colab": {
          "base_uri": "https://localhost:8080/",
          "height": 195
        },
        "outputId": "0de8bc96-e112-490c-b153-18379725e0dc"
      },
      "source": [
        "df_ratings.head()"
      ],
      "execution_count": 15,
      "outputs": [
        {
          "output_type": "execute_result",
          "data": {
            "text/html": [
              "<div>\n",
              "<style scoped>\n",
              "    .dataframe tbody tr th:only-of-type {\n",
              "        vertical-align: middle;\n",
              "    }\n",
              "\n",
              "    .dataframe tbody tr th {\n",
              "        vertical-align: top;\n",
              "    }\n",
              "\n",
              "    .dataframe thead th {\n",
              "        text-align: right;\n",
              "    }\n",
              "</style>\n",
              "<table border=\"1\" class=\"dataframe\">\n",
              "  <thead>\n",
              "    <tr style=\"text-align: right;\">\n",
              "      <th></th>\n",
              "      <th>userId</th>\n",
              "      <th>movieId</th>\n",
              "      <th>rating</th>\n",
              "    </tr>\n",
              "  </thead>\n",
              "  <tbody>\n",
              "    <tr>\n",
              "      <th>0</th>\n",
              "      <td>1</td>\n",
              "      <td>307</td>\n",
              "      <td>3.5</td>\n",
              "    </tr>\n",
              "    <tr>\n",
              "      <th>1</th>\n",
              "      <td>1</td>\n",
              "      <td>481</td>\n",
              "      <td>3.5</td>\n",
              "    </tr>\n",
              "    <tr>\n",
              "      <th>2</th>\n",
              "      <td>1</td>\n",
              "      <td>1091</td>\n",
              "      <td>1.5</td>\n",
              "    </tr>\n",
              "    <tr>\n",
              "      <th>3</th>\n",
              "      <td>1</td>\n",
              "      <td>1257</td>\n",
              "      <td>4.5</td>\n",
              "    </tr>\n",
              "    <tr>\n",
              "      <th>4</th>\n",
              "      <td>1</td>\n",
              "      <td>1449</td>\n",
              "      <td>4.5</td>\n",
              "    </tr>\n",
              "  </tbody>\n",
              "</table>\n",
              "</div>"
            ],
            "text/plain": [
              "   userId  movieId  rating\n",
              "0       1      307     3.5\n",
              "1       1      481     3.5\n",
              "2       1     1091     1.5\n",
              "3       1     1257     4.5\n",
              "4       1     1449     4.5"
            ]
          },
          "metadata": {
            "tags": []
          },
          "execution_count": 15
        }
      ]
    },
    {
      "cell_type": "code",
      "metadata": {
        "id": "p-CvMt3sS1T2",
        "colab_type": "code",
        "colab": {
          "base_uri": "https://localhost:8080/",
          "height": 34
        },
        "outputId": "5bab09ca-561b-463d-c2cf-d7972319de9e"
      },
      "source": [
        "num_users = len(df_ratings.userId.unique())\n",
        "num_items = len(df_ratings.movieId.unique())\n",
        "print(\"ther are {} unique users and {} unique movies in this data set\". format(num_users, num_items))"
      ],
      "execution_count": 16,
      "outputs": [
        {
          "output_type": "stream",
          "text": [
            "ther are 283228 unique users and 53889 unique movies in this data set\n"
          ],
          "name": "stdout"
        }
      ]
    },
    {
      "cell_type": "markdown",
      "metadata": {
        "id": "ScSN7QM1TWVg",
        "colab_type": "text"
      },
      "source": [
        "## 2. Exploratory data analysis\n",
        "\n",
        "* Plot the counts of each rating\n",
        "* Plot rating frequency of each movie\n",
        "\n",
        "**1. Plot the counts of each rating**\n",
        "\n",
        "we first need to get the counts of each rating from ratings data\n"
      ]
    },
    {
      "cell_type": "code",
      "metadata": {
        "id": "TR8XnhpsTUI_",
        "colab_type": "code",
        "colab": {
          "base_uri": "https://localhost:8080/",
          "height": 373
        },
        "outputId": "2bbb6818-97f6-4333-ebd4-ef4e02508e04"
      },
      "source": [
        "#get count\n",
        "df_ratings_cnt_tmp = pd.DataFrame(df_ratings.groupby('rating').size(), columns=['count'])\n",
        "df_ratings_cnt_tmp"
      ],
      "execution_count": 17,
      "outputs": [
        {
          "output_type": "execute_result",
          "data": {
            "text/html": [
              "<div>\n",
              "<style scoped>\n",
              "    .dataframe tbody tr th:only-of-type {\n",
              "        vertical-align: middle;\n",
              "    }\n",
              "\n",
              "    .dataframe tbody tr th {\n",
              "        vertical-align: top;\n",
              "    }\n",
              "\n",
              "    .dataframe thead th {\n",
              "        text-align: right;\n",
              "    }\n",
              "</style>\n",
              "<table border=\"1\" class=\"dataframe\">\n",
              "  <thead>\n",
              "    <tr style=\"text-align: right;\">\n",
              "      <th></th>\n",
              "      <th>count</th>\n",
              "    </tr>\n",
              "    <tr>\n",
              "      <th>rating</th>\n",
              "      <th></th>\n",
              "    </tr>\n",
              "  </thead>\n",
              "  <tbody>\n",
              "    <tr>\n",
              "      <th>0.5</th>\n",
              "      <td>442388</td>\n",
              "    </tr>\n",
              "    <tr>\n",
              "      <th>1.0</th>\n",
              "      <td>886233</td>\n",
              "    </tr>\n",
              "    <tr>\n",
              "      <th>1.5</th>\n",
              "      <td>441354</td>\n",
              "    </tr>\n",
              "    <tr>\n",
              "      <th>2.0</th>\n",
              "      <td>1850627</td>\n",
              "    </tr>\n",
              "    <tr>\n",
              "      <th>2.5</th>\n",
              "      <td>1373419</td>\n",
              "    </tr>\n",
              "    <tr>\n",
              "      <th>3.0</th>\n",
              "      <td>5515668</td>\n",
              "    </tr>\n",
              "    <tr>\n",
              "      <th>3.5</th>\n",
              "      <td>3404360</td>\n",
              "    </tr>\n",
              "    <tr>\n",
              "      <th>4.0</th>\n",
              "      <td>7394710</td>\n",
              "    </tr>\n",
              "    <tr>\n",
              "      <th>4.5</th>\n",
              "      <td>2373550</td>\n",
              "    </tr>\n",
              "    <tr>\n",
              "      <th>5.0</th>\n",
              "      <td>4071135</td>\n",
              "    </tr>\n",
              "  </tbody>\n",
              "</table>\n",
              "</div>"
            ],
            "text/plain": [
              "          count\n",
              "rating         \n",
              "0.5      442388\n",
              "1.0      886233\n",
              "1.5      441354\n",
              "2.0     1850627\n",
              "2.5     1373419\n",
              "3.0     5515668\n",
              "3.5     3404360\n",
              "4.0     7394710\n",
              "4.5     2373550\n",
              "5.0     4071135"
            ]
          },
          "metadata": {
            "tags": []
          },
          "execution_count": 17
        }
      ]
    },
    {
      "cell_type": "markdown",
      "metadata": {
        "id": "x70bOE0OU6bo",
        "colab_type": "text"
      },
      "source": [
        "We can see that above table does not include counts of zero rating score. So we need to add that in rating count dataframe as well"
      ]
    },
    {
      "cell_type": "code",
      "metadata": {
        "id": "D9sIiHl0UQj5",
        "colab_type": "code",
        "colab": {
          "base_uri": "https://localhost:8080/",
          "height": 373
        },
        "outputId": "8cf16488-1e3b-4bbf-f26c-92a46356dd0f"
      },
      "source": [
        "#there are a lot more counts in ratings of zero \n",
        "total_cnt = num_users * num_items\n",
        "ratings_zero_cnt = total_cnt - df_ratings.shape[0]\n",
        "#append counts of zero ratins to df_ratings_cnt\n",
        "df_ratings_cnt = df_ratings_cnt_tmp.append(\n",
        "    pd.DataFrame({'count': ratings_zero_cnt}, index=[0.0]),\n",
        "    verify_integrity = True,).sort_index()\n",
        "df_ratings_cnt"
      ],
      "execution_count": 18,
      "outputs": [
        {
          "output_type": "execute_result",
          "data": {
            "text/html": [
              "<div>\n",
              "<style scoped>\n",
              "    .dataframe tbody tr th:only-of-type {\n",
              "        vertical-align: middle;\n",
              "    }\n",
              "\n",
              "    .dataframe tbody tr th {\n",
              "        vertical-align: top;\n",
              "    }\n",
              "\n",
              "    .dataframe thead th {\n",
              "        text-align: right;\n",
              "    }\n",
              "</style>\n",
              "<table border=\"1\" class=\"dataframe\">\n",
              "  <thead>\n",
              "    <tr style=\"text-align: right;\">\n",
              "      <th></th>\n",
              "      <th>count</th>\n",
              "    </tr>\n",
              "  </thead>\n",
              "  <tbody>\n",
              "    <tr>\n",
              "      <th>0.0</th>\n",
              "      <td>15235120248</td>\n",
              "    </tr>\n",
              "    <tr>\n",
              "      <th>0.5</th>\n",
              "      <td>442388</td>\n",
              "    </tr>\n",
              "    <tr>\n",
              "      <th>1.0</th>\n",
              "      <td>886233</td>\n",
              "    </tr>\n",
              "    <tr>\n",
              "      <th>1.5</th>\n",
              "      <td>441354</td>\n",
              "    </tr>\n",
              "    <tr>\n",
              "      <th>2.0</th>\n",
              "      <td>1850627</td>\n",
              "    </tr>\n",
              "    <tr>\n",
              "      <th>2.5</th>\n",
              "      <td>1373419</td>\n",
              "    </tr>\n",
              "    <tr>\n",
              "      <th>3.0</th>\n",
              "      <td>5515668</td>\n",
              "    </tr>\n",
              "    <tr>\n",
              "      <th>3.5</th>\n",
              "      <td>3404360</td>\n",
              "    </tr>\n",
              "    <tr>\n",
              "      <th>4.0</th>\n",
              "      <td>7394710</td>\n",
              "    </tr>\n",
              "    <tr>\n",
              "      <th>4.5</th>\n",
              "      <td>2373550</td>\n",
              "    </tr>\n",
              "    <tr>\n",
              "      <th>5.0</th>\n",
              "      <td>4071135</td>\n",
              "    </tr>\n",
              "  </tbody>\n",
              "</table>\n",
              "</div>"
            ],
            "text/plain": [
              "           count\n",
              "0.0  15235120248\n",
              "0.5       442388\n",
              "1.0       886233\n",
              "1.5       441354\n",
              "2.0      1850627\n",
              "2.5      1373419\n",
              "3.0      5515668\n",
              "3.5      3404360\n",
              "4.0      7394710\n",
              "4.5      2373550\n",
              "5.0      4071135"
            ]
          },
          "metadata": {
            "tags": []
          },
          "execution_count": 18
        }
      ]
    },
    {
      "cell_type": "markdown",
      "metadata": {
        "id": "mf9yRpNNWxQ8",
        "colab_type": "text"
      },
      "source": [
        "The count for zero rating score is too big to compare with others. So let's take log transform for count values and then we can plot them to compare"
      ]
    },
    {
      "cell_type": "code",
      "metadata": {
        "id": "HZL0XWdxWm1V",
        "colab_type": "code",
        "colab": {
          "base_uri": "https://localhost:8080/",
          "height": 373
        },
        "outputId": "23c5c56c-aaa2-4c51-92c2-ffb72355e51b"
      },
      "source": [
        "#add log count\n",
        "df_ratings_cnt['log_count'] = np.log(df_ratings_cnt['count'])\n",
        "df_ratings_cnt"
      ],
      "execution_count": 19,
      "outputs": [
        {
          "output_type": "execute_result",
          "data": {
            "text/html": [
              "<div>\n",
              "<style scoped>\n",
              "    .dataframe tbody tr th:only-of-type {\n",
              "        vertical-align: middle;\n",
              "    }\n",
              "\n",
              "    .dataframe tbody tr th {\n",
              "        vertical-align: top;\n",
              "    }\n",
              "\n",
              "    .dataframe thead th {\n",
              "        text-align: right;\n",
              "    }\n",
              "</style>\n",
              "<table border=\"1\" class=\"dataframe\">\n",
              "  <thead>\n",
              "    <tr style=\"text-align: right;\">\n",
              "      <th></th>\n",
              "      <th>count</th>\n",
              "      <th>log_count</th>\n",
              "    </tr>\n",
              "  </thead>\n",
              "  <tbody>\n",
              "    <tr>\n",
              "      <th>0.0</th>\n",
              "      <td>15235120248</td>\n",
              "      <td>23.446869</td>\n",
              "    </tr>\n",
              "    <tr>\n",
              "      <th>0.5</th>\n",
              "      <td>442388</td>\n",
              "      <td>12.999943</td>\n",
              "    </tr>\n",
              "    <tr>\n",
              "      <th>1.0</th>\n",
              "      <td>886233</td>\n",
              "      <td>13.694735</td>\n",
              "    </tr>\n",
              "    <tr>\n",
              "      <th>1.5</th>\n",
              "      <td>441354</td>\n",
              "      <td>12.997603</td>\n",
              "    </tr>\n",
              "    <tr>\n",
              "      <th>2.0</th>\n",
              "      <td>1850627</td>\n",
              "      <td>14.431035</td>\n",
              "    </tr>\n",
              "    <tr>\n",
              "      <th>2.5</th>\n",
              "      <td>1373419</td>\n",
              "      <td>14.132814</td>\n",
              "    </tr>\n",
              "    <tr>\n",
              "      <th>3.0</th>\n",
              "      <td>5515668</td>\n",
              "      <td>15.523103</td>\n",
              "    </tr>\n",
              "    <tr>\n",
              "      <th>3.5</th>\n",
              "      <td>3404360</td>\n",
              "      <td>15.040568</td>\n",
              "    </tr>\n",
              "    <tr>\n",
              "      <th>4.0</th>\n",
              "      <td>7394710</td>\n",
              "      <td>15.816275</td>\n",
              "    </tr>\n",
              "    <tr>\n",
              "      <th>4.5</th>\n",
              "      <td>2373550</td>\n",
              "      <td>14.679897</td>\n",
              "    </tr>\n",
              "    <tr>\n",
              "      <th>5.0</th>\n",
              "      <td>4071135</td>\n",
              "      <td>15.219432</td>\n",
              "    </tr>\n",
              "  </tbody>\n",
              "</table>\n",
              "</div>"
            ],
            "text/plain": [
              "           count  log_count\n",
              "0.0  15235120248  23.446869\n",
              "0.5       442388  12.999943\n",
              "1.0       886233  13.694735\n",
              "1.5       441354  12.997603\n",
              "2.0      1850627  14.431035\n",
              "2.5      1373419  14.132814\n",
              "3.0      5515668  15.523103\n",
              "3.5      3404360  15.040568\n",
              "4.0      7394710  15.816275\n",
              "4.5      2373550  14.679897\n",
              "5.0      4071135  15.219432"
            ]
          },
          "metadata": {
            "tags": []
          },
          "execution_count": 19
        }
      ]
    },
    {
      "cell_type": "code",
      "metadata": {
        "id": "eJN8ND2dW-9b",
        "colab_type": "code",
        "colab": {
          "base_uri": "https://localhost:8080/",
          "height": 563
        },
        "outputId": "4b640244-9e33-49c8-f975-5a680a012b46"
      },
      "source": [
        "ax = df_ratings_cnt[['count']].reset_index().rename(columns={'index': 'rating score'}).plot(\n",
        "    x = 'rating score',\n",
        "    y = 'count',\n",
        "    kind = 'bar',\n",
        "    figsize = (12, 8),\n",
        "    title = 'count for each rating score(in log scale)',\n",
        "    logy = True, # to get log scale y axis\n",
        "    fontsize = 12,\n",
        ")\n",
        "ax.set_xlabel('movie rating score')\n",
        "ax.set_ylabel('number of ratings')"
      ],
      "execution_count": 20,
      "outputs": [
        {
          "output_type": "execute_result",
          "data": {
            "text/plain": [
              "Text(0, 0.5, 'number of ratings')"
            ]
          },
          "metadata": {
            "tags": []
          },
          "execution_count": 20
        },
        {
          "output_type": "display_data",
          "data": {
            "image/png": "[encoded data removed]",
            "text/plain": [
              "<Figure size 864x576 with 1 Axes>"
            ]
          },
          "metadata": {
            "tags": []
          }
        }
      ]
    },
    {
      "cell_type": "markdown",
      "metadata": {
        "id": "xOty1q6vZSh8",
        "colab_type": "text"
      },
      "source": [
        "\n",
        "It's interesting that there are more people giving rating score of 3 and 4 than other scores"
      ]
    },
    {
      "cell_type": "markdown",
      "metadata": {
        "id": "isY_1ydAZVvA",
        "colab_type": "text"
      },
      "source": [
        "**2. Plot rating frequency of all movies**"
      ]
    },
    {
      "cell_type": "code",
      "metadata": {
        "id": "sw_Ghjp8Yc-G",
        "colab_type": "code",
        "colab": {
          "base_uri": "https://localhost:8080/",
          "height": 225
        },
        "outputId": "96708de7-cb2b-4b02-c1cc-0c633c83dd04"
      },
      "source": [
        "#get rating frequency\n",
        "df_movies_cnt = pd.DataFrame(df_ratings.groupby('movieId').size(), columns = ['count'])\n",
        "df_movies_cnt.head()"
      ],
      "execution_count": 21,
      "outputs": [
        {
          "output_type": "execute_result",
          "data": {
            "text/html": [
              "<div>\n",
              "<style scoped>\n",
              "    .dataframe tbody tr th:only-of-type {\n",
              "        vertical-align: middle;\n",
              "    }\n",
              "\n",
              "    .dataframe tbody tr th {\n",
              "        vertical-align: top;\n",
              "    }\n",
              "\n",
              "    .dataframe thead th {\n",
              "        text-align: right;\n",
              "    }\n",
              "</style>\n",
              "<table border=\"1\" class=\"dataframe\">\n",
              "  <thead>\n",
              "    <tr style=\"text-align: right;\">\n",
              "      <th></th>\n",
              "      <th>count</th>\n",
              "    </tr>\n",
              "    <tr>\n",
              "      <th>movieId</th>\n",
              "      <th></th>\n",
              "    </tr>\n",
              "  </thead>\n",
              "  <tbody>\n",
              "    <tr>\n",
              "      <th>1</th>\n",
              "      <td>68469</td>\n",
              "    </tr>\n",
              "    <tr>\n",
              "      <th>2</th>\n",
              "      <td>27143</td>\n",
              "    </tr>\n",
              "    <tr>\n",
              "      <th>3</th>\n",
              "      <td>15585</td>\n",
              "    </tr>\n",
              "    <tr>\n",
              "      <th>4</th>\n",
              "      <td>2989</td>\n",
              "    </tr>\n",
              "    <tr>\n",
              "      <th>5</th>\n",
              "      <td>15474</td>\n",
              "    </tr>\n",
              "  </tbody>\n",
              "</table>\n",
              "</div>"
            ],
            "text/plain": [
              "         count\n",
              "movieId       \n",
              "1        68469\n",
              "2        27143\n",
              "3        15585\n",
              "4         2989\n",
              "5        15474"
            ]
          },
          "metadata": {
            "tags": []
          },
          "execution_count": 21
        }
      ]
    },
    {
      "cell_type": "code",
      "metadata": {
        "id": "I_zr8LCJZ8Bt",
        "colab_type": "code",
        "colab": {
          "base_uri": "https://localhost:8080/",
          "height": 557
        },
        "outputId": "056a4eea-07c6-4810-d33a-4327450a5fe7"
      },
      "source": [
        "#plot rating frequncy of all movies\n",
        "ax = df_movies_cnt\\\n",
        "    .sort_values('count', ascending = False)\\\n",
        "    .reset_index(drop=True)\\\n",
        "    .plot(\n",
        "        figsize = (12, 8),\n",
        "        title = \"rating frequency of all movies\",\n",
        "        fontsize = 12\n",
        "    )\n",
        "ax.set_xlabel('movie Id')\n",
        "ax.set_ylabel('number of ratings')"
      ],
      "execution_count": 22,
      "outputs": [
        {
          "output_type": "execute_result",
          "data": {
            "text/plain": [
              "Text(0, 0.5, 'number of ratings')"
            ]
          },
          "metadata": {
            "tags": []
          },
          "execution_count": 22
        },
        {
          "output_type": "display_data",
          "data": {
            "image/png": "[encoded data removed]",
            "text/plain": [
              "<Figure size 864x576 with 1 Axes>"
            ]
          },
          "metadata": {
            "tags": []
          }
        }
      ]
    },
    {
      "cell_type": "markdown",
      "metadata": {
        "id": "Uad075nXbfeD",
        "colab_type": "text"
      },
      "source": [
        "The distribution of ratings among movies often satisfies a property in real-world settings, which is referred to as the long-tail property. According to this property, only a small fraction of the items are rated frequently. Such items are referred to as popular items. The vast majority of items are rated rarely. This results in a highly skewed distribution of the underlying ratings.\n",
        "\n",
        "Let's plot the same distribution but with log scale"
      ]
    },
    {
      "cell_type": "code",
      "metadata": {
        "id": "yfi1-3DzbLmc",
        "colab_type": "code",
        "colab": {
          "base_uri": "https://localhost:8080/",
          "height": 557
        },
        "outputId": "34986cc8-fc87-40d1-b16d-cbd421fb16a6"
      },
      "source": [
        "# plot rating frequency of all movies in log scale\n",
        "ax = df_movies_cnt \\\n",
        "    .sort_values('count', ascending=False) \\\n",
        "    .reset_index(drop=True) \\\n",
        "    .plot(\n",
        "        figsize=(12, 8),\n",
        "        title='Rating Frequency of All Movies (in Log Scale)',\n",
        "        fontsize=12,\n",
        "        logy=True\n",
        "    )\n",
        "ax.set_xlabel(\"movie Id\")\n",
        "ax.set_ylabel(\"number of ratings (log scale)\")"
      ],
      "execution_count": 23,
      "outputs": [
        {
          "output_type": "execute_result",
          "data": {
            "text/plain": [
              "Text(0, 0.5, 'number of ratings (log scale)')"
            ]
          },
          "metadata": {
            "tags": []
          },
          "execution_count": 23
        },
        {
          "output_type": "display_data",
          "data": {
            "image/png": "[encoded data removed]",
            "text/plain": [
              "<Figure size 864x576 with 1 Axes>"
            ]
          },
          "metadata": {
            "tags": []
          }
        }
      ]
    },
    {
      "cell_type": "markdown",
      "metadata": {
        "id": "LkLmQ6lcb1BG",
        "colab_type": "text"
      },
      "source": [
        "We can see that roughly 10,000 out of 53,889 movies are rated more than 100 times. More interestingly, roughly 20,000 out of 53,889 movies are rated less than only 10 times. Let's look closer by displaying top quantiles of rating counts"
      ]
    },
    {
      "cell_type": "code",
      "metadata": {
        "id": "18lv5o5Mbqtq",
        "colab_type": "code",
        "colab": {
          "base_uri": "https://localhost:8080/",
          "height": 168
        },
        "outputId": "251b655a-b79b-4a6d-e15d-8db00a0733aa"
      },
      "source": [
        "df_movies_cnt['count'].quantile(np.arange(1, 0.6, -0.05))"
      ],
      "execution_count": 24,
      "outputs": [
        {
          "output_type": "execute_result",
          "data": {
            "text/plain": [
              "1.00    97999.0\n",
              "0.95     1855.0\n",
              "0.90      531.0\n",
              "0.85      205.0\n",
              "0.80       91.0\n",
              "0.75       48.0\n",
              "0.70       28.0\n",
              "0.65       18.0\n",
              "Name: count, dtype: float64"
            ]
          },
          "metadata": {
            "tags": []
          },
          "execution_count": 24
        }
      ]
    },
    {
      "cell_type": "markdown",
      "metadata": {
        "id": "ysNVGN03c-YV",
        "colab_type": "text"
      },
      "source": [
        "So about 1% of movies have roughly 97,999 or more ratings, 5% have 1,855 or more, and 20% have 100 or more. Since we have so many movies, we'll limit it to the top 25%. This is arbitrary threshold for popularity, but it gives us about 13,500 different movies. We still have pretty good amount of movies for modeling. There are two reasons why we want to filter to roughly 13,500 movies in our dataset.\n",
        "* Memory issue: we don't want to run into the “MemoryError” during model training\n",
        "* Improve KNN performance: lesser known movies have ratings from fewer viewers, making the pattern more noisy. Droping out less known movies can improve recommendation quality"
      ]
    },
    {
      "cell_type": "code",
      "metadata": {
        "id": "XmADdvjfdKxK",
        "colab_type": "code",
        "colab": {
          "base_uri": "https://localhost:8080/",
          "height": 50
        },
        "outputId": "6127f8ee-354d-4115-8124-b5341e5f7fd8"
      },
      "source": [
        "#filter data\n",
        "popularity_thres = 50\n",
        "popular_movies = list(set(df_movies_cnt.query('count >= @popularity_thres').index))\n",
        "df_ratings_drop_movies = df_ratings[df_ratings.movieId.isin(popular_movies)]\n",
        "print('shape of original ratings data: ', df_ratings.shape)\n",
        "print('shape of ratings data after dropping unpopular movies: ', df_ratings_drop_movies.shape)"
      ],
      "execution_count": 25,
      "outputs": [
        {
          "output_type": "stream",
          "text": [
            "shape of original ratings data:  (27753444, 3)\n",
            "shape of ratings data after dropping unpopular movies:  (27430748, 3)\n"
          ],
          "name": "stdout"
        }
      ]
    },
    {
      "cell_type": "markdown",
      "metadata": {
        "id": "iY6hqd7UfJeg",
        "colab_type": "text"
      },
      "source": [
        "After dropping 75% of movies in our dataset, we still have a very large dataset. So next we can filter users to further reduce the size of data"
      ]
    },
    {
      "cell_type": "code",
      "metadata": {
        "id": "6-fJuZOOd2bj",
        "colab_type": "code",
        "colab": {
          "base_uri": "https://localhost:8080/",
          "height": 225
        },
        "outputId": "3b1e85d9-a045-4ec7-fdd8-9ab14149b461"
      },
      "source": [
        "#get number of ratings given by every user\n",
        "df_users_cnt = pd.DataFrame(df_ratings_drop_movies.groupby('userId').size(), columns=['count'])\n",
        "df_users_cnt.head()"
      ],
      "execution_count": 26,
      "outputs": [
        {
          "output_type": "execute_result",
          "data": {
            "text/html": [
              "<div>\n",
              "<style scoped>\n",
              "    .dataframe tbody tr th:only-of-type {\n",
              "        vertical-align: middle;\n",
              "    }\n",
              "\n",
              "    .dataframe tbody tr th {\n",
              "        vertical-align: top;\n",
              "    }\n",
              "\n",
              "    .dataframe thead th {\n",
              "        text-align: right;\n",
              "    }\n",
              "</style>\n",
              "<table border=\"1\" class=\"dataframe\">\n",
              "  <thead>\n",
              "    <tr style=\"text-align: right;\">\n",
              "      <th></th>\n",
              "      <th>count</th>\n",
              "    </tr>\n",
              "    <tr>\n",
              "      <th>userId</th>\n",
              "      <th></th>\n",
              "    </tr>\n",
              "  </thead>\n",
              "  <tbody>\n",
              "    <tr>\n",
              "      <th>1</th>\n",
              "      <td>16</td>\n",
              "    </tr>\n",
              "    <tr>\n",
              "      <th>2</th>\n",
              "      <td>15</td>\n",
              "    </tr>\n",
              "    <tr>\n",
              "      <th>3</th>\n",
              "      <td>11</td>\n",
              "    </tr>\n",
              "    <tr>\n",
              "      <th>4</th>\n",
              "      <td>736</td>\n",
              "    </tr>\n",
              "    <tr>\n",
              "      <th>5</th>\n",
              "      <td>72</td>\n",
              "    </tr>\n",
              "  </tbody>\n",
              "</table>\n",
              "</div>"
            ],
            "text/plain": [
              "        count\n",
              "userId       \n",
              "1          16\n",
              "2          15\n",
              "3          11\n",
              "4         736\n",
              "5          72"
            ]
          },
          "metadata": {
            "tags": []
          },
          "execution_count": 26
        }
      ]
    },
    {
      "cell_type": "code",
      "metadata": {
        "id": "feH97UOXfiqa",
        "colab_type": "code",
        "colab": {
          "base_uri": "https://localhost:8080/",
          "height": 557
        },
        "outputId": "82867794-a5f9-46c7-e131-492f4287725e"
      },
      "source": [
        "#plot rating frequncy of all movies\n",
        "ax = df_users_cnt \\\n",
        "    .sort_values('count', ascending=False) \\\n",
        "    .reset_index(drop=True)\\\n",
        "    .plot(\n",
        "        figsize = (12, 8),\n",
        "        title = 'Rating frequency of all users',\n",
        "        fontsize = 12\n",
        "    )\n",
        "ax.set_xlabel(\"user Id\")\n",
        "ax.set_ylabel('number of ratings')"
      ],
      "execution_count": 27,
      "outputs": [
        {
          "output_type": "execute_result",
          "data": {
            "text/plain": [
              "Text(0, 0.5, 'number of ratings')"
            ]
          },
          "metadata": {
            "tags": []
          },
          "execution_count": 27
        },
        {
          "output_type": "display_data",
          "data": {
            "image/png": "[encoded data removed]",
            "text/plain": [
              "<Figure size 864x576 with 1 Axes>"
            ]
          },
          "metadata": {
            "tags": []
          }
        }
      ]
    },
    {
      "cell_type": "code",
      "metadata": {
        "id": "Xp2bfz69gKnV",
        "colab_type": "code",
        "colab": {
          "base_uri": "https://localhost:8080/",
          "height": 202
        },
        "outputId": "cca49797-c737-4e3f-c543-51d4968f6e35"
      },
      "source": [
        "df_users_cnt['count'].quantile(np.arange(1, 0.5, -0.05))"
      ],
      "execution_count": 28,
      "outputs": [
        {
          "output_type": "execute_result",
          "data": {
            "text/plain": [
              "1.00    9384.0\n",
              "0.95     403.0\n",
              "0.90     239.0\n",
              "0.85     164.0\n",
              "0.80     121.0\n",
              "0.75      94.0\n",
              "0.70      73.0\n",
              "0.65      58.0\n",
              "0.60      47.0\n",
              "0.55      37.0\n",
              "Name: count, dtype: float64"
            ]
          },
          "metadata": {
            "tags": []
          },
          "execution_count": 28
        }
      ]
    },
    {
      "cell_type": "markdown",
      "metadata": {
        "id": "7oOX8GvngW1L",
        "colab_type": "text"
      },
      "source": [
        "We can see that the distribution of ratings by users is very similar to the distribution of ratings among movies. They both have long-tail property. Only a very small fraction of users are very actively engaged with rating movies that they watched. Vast majority of users aren't interested in rating movies. So we can limit users to the top 40%, which is about 113,291 users."
      ]
    },
    {
      "cell_type": "code",
      "metadata": {
        "id": "dop9PJGRgQWc",
        "colab_type": "code",
        "colab": {
          "base_uri": "https://localhost:8080/",
          "height": 70
        },
        "outputId": "bec046b3-c651-411d-bd96-2e3df0d8670d"
      },
      "source": [
        "#filter data\n",
        "ratings_thres = 50\n",
        "active_users = list(set(df_users_cnt.query('count >= @ratings_thres').index))\n",
        "df_ratings_drop_users = df_ratings_drop_movies[df_ratings_drop_movies.userId.isin(active_users)]\n",
        "print('shap of original ratings data:', df_ratings.shape)\n",
        "print('shape of ratings data after dropping both unpoplar movies and inactive users: ', df_ratings_drop_users.shape)"
      ],
      "execution_count": 29,
      "outputs": [
        {
          "output_type": "stream",
          "text": [
            "shap of original ratings data: (27753444, 3)\n",
            "shape of ratings data after dropping both unpoplar movies and inactive users:  (24178982, 3)\n"
          ],
          "name": "stdout"
        }
      ]
    },
    {
      "cell_type": "markdown",
      "metadata": {
        "id": "_40f8YRohZHF",
        "colab_type": "text"
      },
      "source": [
        "## 3. Train KNN model for item-based collaborative filtering\n",
        "\n",
        "* Reshaping the Data\n",
        "* Fitting the Model"
      ]
    },
    {
      "cell_type": "markdown",
      "metadata": {
        "id": "Wt2Th01miat5",
        "colab_type": "text"
      },
      "source": [
        "**1. Reshaping the Data**\n",
        "\n",
        "For K-Nearest Neighbors, we want the data to be in an (artist, user) array, where each row is a movie and each column is a different user. To reshape the dataframe, we'll pivot the dataframe to the wide format with movies as rows and users as columns. Then we'll fill the missing observations with 0s since we're going to be performing linear algebra operations (calculating distances between vectors). Finally, we transform the values of the dataframe into a scipy sparse matrix for more efficient calculations."
      ]
    },
    {
      "cell_type": "code",
      "metadata": {
        "id": "cWkQoq6LhS01",
        "colab_type": "code",
        "colab": {}
      },
      "source": [
        "#pivot and create movie_user matrix\n",
        "movie_user_mat = df_ratings_drop_users.pivot(index='movieId', columns='userId', values='rating').fillna(0)\n",
        "# create mapper from movie title to index\n",
        "movie_to_idx = {\n",
        "    movie: i for i, movie in \n",
        "    enumerate(list(df_movies.set_index('movieId').loc[movie_user_mat.index].title))\n",
        "}\n",
        "# transform matrix to scipy sparse matrix\n",
        "movie_user_mat_sparse = csr_matrix(movie_user_mat.values)"
      ],
      "execution_count": 0,
      "outputs": []
    },
    {
      "cell_type": "markdown",
      "metadata": {
        "id": "DrTVu28ujd6l",
        "colab_type": "text"
      },
      "source": [
        "**2. Fitting the Model**\n",
        "\n",
        "Time to implement the model. We'll initialize the NearestNeighbors class as model_knn and fit our sparse matrix to the instance. By specifying the metric = cosine, the model will measure similarity bectween artist vectors by using cosine similarity."
      ]
    },
    {
      "cell_type": "code",
      "metadata": {
        "id": "Ck91WbVZjbPn",
        "colab_type": "code",
        "colab": {
          "base_uri": "https://localhost:8080/",
          "height": 67
        },
        "outputId": "804f1c6f-cbbe-463c-c839-1362cc1a4088"
      },
      "source": [
        "# define model\n",
        "model_knn = NearestNeighbors(metric='cosine', algorithm='brute', n_neighbors=20, n_jobs=-1)\n",
        "# fit\n",
        "model_knn.fit(movie_user_mat_sparse)"
      ],
      "execution_count": 31,
      "outputs": [
        {
          "output_type": "execute_result",
          "data": {
            "text/plain": [
              "NearestNeighbors(algorithm='brute', leaf_size=30, metric='cosine',\n",
              "                 metric_params=None, n_jobs=-1, n_neighbors=20, p=2,\n",
              "                 radius=1.0)"
            ]
          },
          "metadata": {
            "tags": []
          },
          "execution_count": 31
        }
      ]
    },
    {
      "cell_type": "markdown",
      "metadata": {
        "id": "azpEGIsgmsVI",
        "colab_type": "text"
      },
      "source": [
        "##4. Use this trained model to make movie recommendations to myself\n",
        "\n",
        "And we're finally ready to make some recommendations!"
      ]
    },
    {
      "cell_type": "code",
      "metadata": {
        "id": "F2c-9DSlmvph",
        "colab_type": "code",
        "colab": {}
      },
      "source": [
        "def fuzzy_matching(mapper, fav_movie, verbose=True):\n",
        "    \"\"\"\n",
        "    return the closest match via fuzzy ratio. If no match found, return None\n",
        "    \n",
        "    Parameters\n",
        "    ----------    \n",
        "    mapper: dict, map movie title name to index of the movie in data\n",
        "\n",
        "    fav_movie: str, name of user input movie\n",
        "    \n",
        "    verbose: bool, print log if True\n",
        "\n",
        "    Return\n",
        "    ------\n",
        "    index of the closest match\n",
        "    \"\"\"\n",
        "    match_tuple = []\n",
        "    # get match\n",
        "    for title, idx in mapper.items():\n",
        "        ratio = fuzz.ratio(title.lower(), fav_movie.lower())\n",
        "        if ratio >= 60:\n",
        "            match_tuple.append((title, idx, ratio))\n",
        "    # sort\n",
        "    match_tuple = sorted(match_tuple, key=lambda x: x[2])[::-1]\n",
        "    if not match_tuple:\n",
        "        print('Oops! No match is found')\n",
        "        return\n",
        "    if verbose:\n",
        "        print('Found possible matches in our database: {0}\\n'.format([x[0] for x in match_tuple]))\n",
        "    return match_tuple[0][1]\n",
        "\n",
        "\n",
        "\n",
        "def make_recommendation(model_knn, data, mapper, fav_movie, n_recommendations):\n",
        "    \"\"\"\n",
        "    return top n similar movie recommendations based on user's input movie\n",
        "\n",
        "\n",
        "    Parameters\n",
        "    ----------\n",
        "    model_knn: sklearn model, knn model\n",
        "\n",
        "    data: movie-user matrix\n",
        "\n",
        "    mapper: dict, map movie title name to index of the movie in data\n",
        "\n",
        "    fav_movie: str, name of user input movie\n",
        "\n",
        "    n_recommendations: int, top n recommendations\n",
        "\n",
        "    Return\n",
        "    ------\n",
        "    list of top n similar movie recommendations\n",
        "    \"\"\"\n",
        "    # fit\n",
        "    model_knn.fit(data)\n",
        "    # get input movie index\n",
        "    print('You have input movie:', fav_movie)\n",
        "    idx = fuzzy_matching(mapper, fav_movie, verbose=True)\n",
        "    # inference\n",
        "    print('Recommendation system start to make inference')\n",
        "    print('......\\n')\n",
        "    distances, indices = model_knn.kneighbors(data[idx], n_neighbors=n_recommendations+1)\n",
        "    # get list of raw idx of recommendations\n",
        "    raw_recommends = \\\n",
        "        sorted(list(zip(indices.squeeze().tolist(), distances.squeeze().tolist())), key=lambda x: x[1])[:0:-1]\n",
        "    # get reverse mapper\n",
        "    reverse_mapper = {v: k for k, v in mapper.items()}\n",
        "    # print recommendations\n",
        "    print('Recommendations for {}:'.format(fav_movie))\n",
        "    for i, (idx, dist) in enumerate(raw_recommends):\n",
        "        print('{0}: {1}, with distance of {2}'.format(i+1, reverse_mapper[idx], dist))"
      ],
      "execution_count": 0,
      "outputs": []
    },
    {
      "cell_type": "code",
      "metadata": {
        "id": "TY5ahSKWm6C_",
        "colab_type": "code",
        "colab": {
          "base_uri": "https://localhost:8080/",
          "height": 322
        },
        "outputId": "bcb47b3b-aca7-4788-f31a-f0eca90e8001"
      },
      "source": [
        "my_favorite = 'Iron Man'\n",
        "\n",
        "make_recommendation(\n",
        "    model_knn=model_knn,\n",
        "    data=movie_user_mat_sparse,\n",
        "    fav_movie=my_favorite,\n",
        "    mapper=movie_to_idx,\n",
        "    n_recommendations=10)"
      ],
      "execution_count": 33,
      "outputs": [
        {
          "output_type": "stream",
          "text": [
            "You have input movie: Iron Man\n",
            "Found possible matches in our database: ['Iron Man (2008)', 'Iron Man 3 (2013)', 'Iron Man 2 (2010)']\n",
            "\n",
            "Recommendation system start to make inference\n",
            "......\n",
            "\n",
            "Recommendations for Iron Man:\n",
            "1: Bourne Ultimatum, The (2007), with distance of 0.4217848777770996\n",
            "2: Sherlock Holmes (2009), with distance of 0.4190899133682251\n",
            "3: Inception (2010), with distance of 0.39293038845062256\n",
            "4: Avatar (2009), with distance of 0.38322633504867554\n",
            "5: WALL·E (2008), with distance of 0.38314002752304077\n",
            "6: Star Trek (2009), with distance of 0.37503182888031006\n",
            "7: Batman Begins (2005), with distance of 0.3701704144477844\n",
            "8: Iron Man 2 (2010), with distance of 0.37011009454727173\n",
            "9: Avengers, The (2012), with distance of 0.3579972982406616\n",
            "10: Dark Knight, The (2008), with distance of 0.3010351061820984\n"
          ],
          "name": "stdout"
        }
      ]
    },
    {
      "cell_type": "markdown",
      "metadata": {
        "id": "XWjcQYNyseF4",
        "colab_type": "text"
      },
      "source": [
        "This is very interesting that my KNN model recommends movies that were also produced in very similar years. However, the cosine distance of all those recommendations are actually quite small. This is probabily because there is too many zero values in our movie-user matrix. With too many zero values in our data, the data sparsity becomes a real issue for KNN model and the distance in KNN model starts to fall apart. So I'd like to dig deeper and look closer inside our data.\n",
        "\n",
        "(extra inspection)\n",
        "Let's now look at how sparse the movie-user matrix is by calculating percentage of zero values in the data."
      ]
    },
    {
      "cell_type": "code",
      "metadata": {
        "id": "I4OyhGZ7m6tI",
        "colab_type": "code",
        "colab": {
          "base_uri": "https://localhost:8080/",
          "height": 34
        },
        "outputId": "c1468f41-f6a0-4920-ea26-333d7ababe88"
      },
      "source": [
        "# calcuate total number of entries in the movie-user matrix\n",
        "num_entries = movie_user_mat.shape[0] * movie_user_mat.shape[1]\n",
        "# calculate total number of entries with zero values\n",
        "num_zeros = (movie_user_mat==0).sum(axis=1).sum()\n",
        "# calculate ratio of number of zeros to number of entries\n",
        "ratio_zeros = num_zeros / num_entries\n",
        "print('There is about {:.2%} of ratings in our data is missing'.format(ratio_zeros))"
      ],
      "execution_count": 34,
      "outputs": [
        {
          "output_type": "stream",
          "text": [
            "There is about 98.35% of ratings in our data is missing\n"
          ],
          "name": "stdout"
        }
      ]
    },
    {
      "cell_type": "markdown",
      "metadata": {
        "id": "tlUUx25hswW9",
        "colab_type": "text"
      },
      "source": [
        "This result confirms my hypothesis. The vast majority of entries in our data is zero. This explains why the distance between similar items or opposite items are both pretty large."
      ]
    },
    {
      "cell_type": "markdown",
      "metadata": {
        "id": "i5RLKbs4s3Px",
        "colab_type": "text"
      },
      "source": [
        "\n",
        "##5. Deep dive into the bottleneck of item-based collaborative filtering.\n",
        "* cold start problem\n",
        "* data sparsity problem\n",
        "* popular bias (how to recommend products from the tail of product distribution)\n",
        "* scalability bottleneck\n",
        "We saw there is 98.35% of user-movie interactions are not yet recorded, even after I filtered out less-known movies and inactive users. Apparently, we don't even have sufficient information for the system to make reliable inferences for users or items. This is called Cold Start problem in recommender system.\n",
        "\n",
        "There are three cases of cold start:\n",
        "\n",
        "1. New community: refers to the start-up of the recommender, when, although a catalogue of items might exist, almost no users are present and the lack of user interaction makes very hard to provide reliable recommendations\n",
        "2. New item: a new item is added to the system, it might have some content information but no interactions are present\n",
        "3. New user: a new user registers and has not provided any interaction yet, therefore it is not possible to provide personalized recommendations\n",
        "\n",
        "We are not concerned with the last one because we can use item-based filtering to make recommendations for new user. In our case, we are more concerned with the first two cases, especially the second case.\n",
        "\n",
        "The item cold-start problem refers to when items added to the catalogue have either none or very little interactions. This constitutes a problem mainly for collaborative filtering algorithms due to the fact that they rely on the item's interactions to make recommendations. If no interactions are available then a pure collaborative algorithm cannot recommend the item. In case only a few interactions are available, although a collaborative algorithm will be able to recommend it, the quality of those recommendations will be poor. This arises another issue, which is not anymore related to new items, but rather to unpopular items. In some cases (e.g. movie recommendations) it might happen that a handful of items receive an extremely high number of iteractions, while most of the items only receive a fraction of them. This is also referred to as popularity bias. Please recall previous long-tail skewed distribution of movie rating frequency plot.\n",
        "\n",
        "In addtition to that, scalability is also a big issue in KNN model too. Its time complexity is O(nd + kn), where n is the cardinality of the training set and d the dimension of each sample. And KNN takes more time in making inference than training, which increase the prediction latency"
      ]
    },
    {
      "cell_type": "markdown",
      "metadata": {
        "id": "FWaP4JRUvLyO",
        "colab_type": "text"
      },
      "source": [
        "## 6. Further study\n",
        "Use spark's ALS to solve above problems"
      ]
    },
    {
      "cell_type": "code",
      "metadata": {
        "id": "0TkFPt8QsxWJ",
        "colab_type": "code",
        "colab": {}
      },
      "source": [
        ""
      ],
      "execution_count": 0,
      "outputs": []
    }
  ]
}